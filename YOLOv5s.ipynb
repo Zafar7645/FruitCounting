{
  "cells": [
    {
      "cell_type": "markdown",
      "metadata": {
        "id": "view-in-github",
        "colab_type": "text"
      },
      "source": [
        "<a href=\"https://colab.research.google.com/github/Zafar7645/FruitCounting/blob/main/YOLOv5s.ipynb\" target=\"_parent\"><img src=\"https://colab.research.google.com/assets/colab-badge.svg\" alt=\"Open In Colab\"/></a>"
      ]
    },
    {
      "cell_type": "markdown",
      "source": [
        "### Mount Google Drive"
      ],
      "metadata": {
        "id": "4fYZskxmpmwK"
      }
    },
    {
      "cell_type": "code",
      "execution_count": null,
      "metadata": {
        "colab": {
          "base_uri": "https://localhost:8080/"
        },
        "id": "rFnkylchv-xq",
        "outputId": "5e8b01a1-8605-46c4-e8dd-e4f594dea6cc"
      },
      "outputs": [
        {
          "output_type": "stream",
          "name": "stdout",
          "text": [
            "Mounted at /content/drive\n"
          ]
        }
      ],
      "source": [
        "from google.colab import drive\n",
        "drive.mount('/content/drive')"
      ]
    },
    {
      "cell_type": "markdown",
      "metadata": {
        "id": "VVO58hItFsT4"
      },
      "source": [
        "### Clone the YOLOv5 Repository"
      ]
    },
    {
      "cell_type": "code",
      "execution_count": null,
      "metadata": {
        "colab": {
          "base_uri": "https://localhost:8080/"
        },
        "id": "GBAJ4od4UEL3",
        "outputId": "12cb5455-0bf0-41f0-e521-494cfdd67cb6"
      },
      "outputs": [
        {
          "output_type": "stream",
          "name": "stdout",
          "text": [
            "Cloning into 'yolov5'...\n",
            "remote: Enumerating objects: 12722, done.\u001b[K\n",
            "remote: Total 12722 (delta 0), reused 0 (delta 0), pack-reused 12722\u001b[K\n",
            "Receiving objects: 100% (12722/12722), 11.71 MiB | 25.30 MiB/s, done.\n",
            "Resolving deltas: 100% (8871/8871), done.\n"
          ]
        }
      ],
      "source": [
        "!git clone https://github.com/ultralytics/yolov5.git"
      ]
    },
    {
      "cell_type": "markdown",
      "metadata": {
        "id": "Wl6BjdGkF2BK"
      },
      "source": [
        "### Change Directory to yolov5"
      ]
    },
    {
      "cell_type": "code",
      "execution_count": null,
      "metadata": {
        "colab": {
          "base_uri": "https://localhost:8080/"
        },
        "id": "Gu5UjPJTW9GW",
        "outputId": "0909ec80-711f-427c-ecd0-243b3bd9cccf"
      },
      "outputs": [
        {
          "output_type": "stream",
          "name": "stdout",
          "text": [
            "/content/yolov5\n"
          ]
        }
      ],
      "source": [
        "%cd yolov5/"
      ]
    },
    {
      "cell_type": "markdown",
      "metadata": {
        "id": "ge9PgTIeF6rI"
      },
      "source": [
        "### Install Required Dependencies"
      ]
    },
    {
      "cell_type": "code",
      "execution_count": null,
      "metadata": {
        "colab": {
          "base_uri": "https://localhost:8080/"
        },
        "id": "gypm2_zVcm-m",
        "outputId": "bfcf1e33-9a3e-44fd-92a5-b5125e1b8385"
      },
      "outputs": [
        {
          "output_type": "stream",
          "name": "stdout",
          "text": [
            "Requirement already satisfied: matplotlib>=3.2.2 in /usr/local/lib/python3.7/dist-packages (from -r requirements.txt (line 4)) (3.2.2)\n",
            "Requirement already satisfied: numpy>=1.18.5 in /usr/local/lib/python3.7/dist-packages (from -r requirements.txt (line 5)) (1.21.5)\n",
            "Requirement already satisfied: opencv-python>=4.1.2 in /usr/local/lib/python3.7/dist-packages (from -r requirements.txt (line 6)) (4.1.2.30)\n",
            "Requirement already satisfied: Pillow>=7.1.2 in /usr/local/lib/python3.7/dist-packages (from -r requirements.txt (line 7)) (7.1.2)\n",
            "Collecting PyYAML>=5.3.1\n",
            "  Downloading PyYAML-6.0-cp37-cp37m-manylinux_2_5_x86_64.manylinux1_x86_64.manylinux_2_12_x86_64.manylinux2010_x86_64.whl (596 kB)\n",
            "\u001b[K     |████████████████████████████████| 596 kB 5.3 MB/s \n",
            "\u001b[?25hRequirement already satisfied: requests>=2.23.0 in /usr/local/lib/python3.7/dist-packages (from -r requirements.txt (line 9)) (2.23.0)\n",
            "Requirement already satisfied: scipy>=1.4.1 in /usr/local/lib/python3.7/dist-packages (from -r requirements.txt (line 10)) (1.4.1)\n",
            "Requirement already satisfied: torch>=1.7.0 in /usr/local/lib/python3.7/dist-packages (from -r requirements.txt (line 11)) (1.10.0+cu111)\n",
            "Requirement already satisfied: torchvision>=0.8.1 in /usr/local/lib/python3.7/dist-packages (from -r requirements.txt (line 12)) (0.11.1+cu111)\n",
            "Requirement already satisfied: tqdm>=4.41.0 in /usr/local/lib/python3.7/dist-packages (from -r requirements.txt (line 13)) (4.63.0)\n",
            "Requirement already satisfied: tensorboard>=2.4.1 in /usr/local/lib/python3.7/dist-packages (from -r requirements.txt (line 16)) (2.8.0)\n",
            "Requirement already satisfied: pandas>=1.1.4 in /usr/local/lib/python3.7/dist-packages (from -r requirements.txt (line 20)) (1.3.5)\n",
            "Requirement already satisfied: seaborn>=0.11.0 in /usr/local/lib/python3.7/dist-packages (from -r requirements.txt (line 21)) (0.11.2)\n",
            "Collecting thop\n",
            "  Downloading thop-0.0.31.post2005241907-py3-none-any.whl (8.7 kB)\n",
            "Requirement already satisfied: pyparsing!=2.0.4,!=2.1.2,!=2.1.6,>=2.0.1 in /usr/local/lib/python3.7/dist-packages (from matplotlib>=3.2.2->-r requirements.txt (line 4)) (3.0.7)\n",
            "Requirement already satisfied: kiwisolver>=1.0.1 in /usr/local/lib/python3.7/dist-packages (from matplotlib>=3.2.2->-r requirements.txt (line 4)) (1.4.0)\n",
            "Requirement already satisfied: python-dateutil>=2.1 in /usr/local/lib/python3.7/dist-packages (from matplotlib>=3.2.2->-r requirements.txt (line 4)) (2.8.2)\n",
            "Requirement already satisfied: cycler>=0.10 in /usr/local/lib/python3.7/dist-packages (from matplotlib>=3.2.2->-r requirements.txt (line 4)) (0.11.0)\n",
            "Requirement already satisfied: certifi>=2017.4.17 in /usr/local/lib/python3.7/dist-packages (from requests>=2.23.0->-r requirements.txt (line 9)) (2021.10.8)\n",
            "Requirement already satisfied: urllib3!=1.25.0,!=1.25.1,<1.26,>=1.21.1 in /usr/local/lib/python3.7/dist-packages (from requests>=2.23.0->-r requirements.txt (line 9)) (1.24.3)\n",
            "Requirement already satisfied: chardet<4,>=3.0.2 in /usr/local/lib/python3.7/dist-packages (from requests>=2.23.0->-r requirements.txt (line 9)) (3.0.4)\n",
            "Requirement already satisfied: idna<3,>=2.5 in /usr/local/lib/python3.7/dist-packages (from requests>=2.23.0->-r requirements.txt (line 9)) (2.10)\n",
            "Requirement already satisfied: typing-extensions in /usr/local/lib/python3.7/dist-packages (from torch>=1.7.0->-r requirements.txt (line 11)) (3.10.0.2)\n",
            "Requirement already satisfied: google-auth-oauthlib<0.5,>=0.4.1 in /usr/local/lib/python3.7/dist-packages (from tensorboard>=2.4.1->-r requirements.txt (line 16)) (0.4.6)\n",
            "Requirement already satisfied: setuptools>=41.0.0 in /usr/local/lib/python3.7/dist-packages (from tensorboard>=2.4.1->-r requirements.txt (line 16)) (57.4.0)\n",
            "Requirement already satisfied: werkzeug>=0.11.15 in /usr/local/lib/python3.7/dist-packages (from tensorboard>=2.4.1->-r requirements.txt (line 16)) (1.0.1)\n",
            "Requirement already satisfied: wheel>=0.26 in /usr/local/lib/python3.7/dist-packages (from tensorboard>=2.4.1->-r requirements.txt (line 16)) (0.37.1)\n",
            "Requirement already satisfied: tensorboard-data-server<0.7.0,>=0.6.0 in /usr/local/lib/python3.7/dist-packages (from tensorboard>=2.4.1->-r requirements.txt (line 16)) (0.6.1)\n",
            "Requirement already satisfied: absl-py>=0.4 in /usr/local/lib/python3.7/dist-packages (from tensorboard>=2.4.1->-r requirements.txt (line 16)) (1.0.0)\n",
            "Requirement already satisfied: protobuf>=3.6.0 in /usr/local/lib/python3.7/dist-packages (from tensorboard>=2.4.1->-r requirements.txt (line 16)) (3.17.3)\n",
            "Requirement already satisfied: tensorboard-plugin-wit>=1.6.0 in /usr/local/lib/python3.7/dist-packages (from tensorboard>=2.4.1->-r requirements.txt (line 16)) (1.8.1)\n",
            "Requirement already satisfied: google-auth<3,>=1.6.3 in /usr/local/lib/python3.7/dist-packages (from tensorboard>=2.4.1->-r requirements.txt (line 16)) (1.35.0)\n",
            "Requirement already satisfied: markdown>=2.6.8 in /usr/local/lib/python3.7/dist-packages (from tensorboard>=2.4.1->-r requirements.txt (line 16)) (3.3.6)\n",
            "Requirement already satisfied: grpcio>=1.24.3 in /usr/local/lib/python3.7/dist-packages (from tensorboard>=2.4.1->-r requirements.txt (line 16)) (1.44.0)\n",
            "Requirement already satisfied: pytz>=2017.3 in /usr/local/lib/python3.7/dist-packages (from pandas>=1.1.4->-r requirements.txt (line 20)) (2018.9)\n",
            "Requirement already satisfied: six in /usr/local/lib/python3.7/dist-packages (from absl-py>=0.4->tensorboard>=2.4.1->-r requirements.txt (line 16)) (1.15.0)\n",
            "Requirement already satisfied: cachetools<5.0,>=2.0.0 in /usr/local/lib/python3.7/dist-packages (from google-auth<3,>=1.6.3->tensorboard>=2.4.1->-r requirements.txt (line 16)) (4.2.4)\n",
            "Requirement already satisfied: pyasn1-modules>=0.2.1 in /usr/local/lib/python3.7/dist-packages (from google-auth<3,>=1.6.3->tensorboard>=2.4.1->-r requirements.txt (line 16)) (0.2.8)\n",
            "Requirement already satisfied: rsa<5,>=3.1.4 in /usr/local/lib/python3.7/dist-packages (from google-auth<3,>=1.6.3->tensorboard>=2.4.1->-r requirements.txt (line 16)) (4.8)\n",
            "Requirement already satisfied: requests-oauthlib>=0.7.0 in /usr/local/lib/python3.7/dist-packages (from google-auth-oauthlib<0.5,>=0.4.1->tensorboard>=2.4.1->-r requirements.txt (line 16)) (1.3.1)\n",
            "Requirement already satisfied: importlib-metadata>=4.4 in /usr/local/lib/python3.7/dist-packages (from markdown>=2.6.8->tensorboard>=2.4.1->-r requirements.txt (line 16)) (4.11.3)\n",
            "Requirement already satisfied: zipp>=0.5 in /usr/local/lib/python3.7/dist-packages (from importlib-metadata>=4.4->markdown>=2.6.8->tensorboard>=2.4.1->-r requirements.txt (line 16)) (3.7.0)\n",
            "Requirement already satisfied: pyasn1<0.5.0,>=0.4.6 in /usr/local/lib/python3.7/dist-packages (from pyasn1-modules>=0.2.1->google-auth<3,>=1.6.3->tensorboard>=2.4.1->-r requirements.txt (line 16)) (0.4.8)\n",
            "Requirement already satisfied: oauthlib>=3.0.0 in /usr/local/lib/python3.7/dist-packages (from requests-oauthlib>=0.7.0->google-auth-oauthlib<0.5,>=0.4.1->tensorboard>=2.4.1->-r requirements.txt (line 16)) (3.2.0)\n",
            "Installing collected packages: thop, PyYAML\n",
            "  Attempting uninstall: PyYAML\n",
            "    Found existing installation: PyYAML 3.13\n",
            "    Uninstalling PyYAML-3.13:\n",
            "      Successfully uninstalled PyYAML-3.13\n",
            "Successfully installed PyYAML-6.0 thop-0.0.31.post2005241907\n"
          ]
        }
      ],
      "source": [
        "!pip install -r requirements.txt"
      ]
    },
    {
      "cell_type": "markdown",
      "metadata": {
        "id": "QflTgxaqGAkh"
      },
      "source": [
        "### Downlaod YOLOv5s Weights"
      ]
    },
    {
      "cell_type": "code",
      "execution_count": null,
      "metadata": {
        "colab": {
          "base_uri": "https://localhost:8080/"
        },
        "id": "8SWGh4nGxM8y",
        "outputId": "a69c7965-d768-4029-e9dc-f377b1063b41"
      },
      "outputs": [
        {
          "output_type": "stream",
          "name": "stdout",
          "text": [
            "Downloading https://ultralytics.com/assets/Arial.ttf to /root/.config/Ultralytics/Arial.ttf...\n",
            "\u001b[34m\u001b[1mdetect: \u001b[0mweights=['yolov5s.pt'], source=data/images, data=data/coco128.yaml, imgsz=[640, 640], conf_thres=0.25, iou_thres=0.45, max_det=1000, device=, view_img=False, save_txt=False, save_conf=False, save_crop=False, nosave=False, classes=None, agnostic_nms=False, augment=False, visualize=False, update=False, project=runs/detect, name=exp, exist_ok=False, line_thickness=3, hide_labels=False, hide_conf=False, half=False, dnn=False\n",
            "YOLOv5 🚀 v6.1-119-gaa542ce torch 1.10.0+cu111 CUDA:0 (Tesla K80, 11441MiB)\n",
            "\n",
            "Downloading https://github.com/ultralytics/yolov5/releases/download/v6.1/yolov5s.pt to yolov5s.pt...\n",
            "100% 14.1M/14.1M [00:00<00:00, 118MB/s]\n",
            "\n",
            "Fusing layers... \n",
            "YOLOv5s summary: 213 layers, 7225885 parameters, 0 gradients, 16.5 GFLOPs\n",
            "image 1/2 /content/yolov5/data/images/bus.jpg: 640x480 4 persons, 1 bus, Done. (0.032s)\n",
            "image 2/2 /content/yolov5/data/images/zidane.jpg: 384x640 2 persons, 2 ties, Done. (0.029s)\n",
            "Speed: 0.5ms pre-process, 30.4ms inference, 22.1ms NMS per image at shape (1, 3, 640, 640)\n",
            "Results saved to \u001b[1mruns/detect/exp\u001b[0m\n"
          ]
        }
      ],
      "source": [
        "!python detect.py --weights yolov5s.pt --img 640"
      ]
    },
    {
      "cell_type": "markdown",
      "metadata": {
        "id": "eonZvqVWHEea"
      },
      "source": [
        "### Train"
      ]
    },
    {
      "cell_type": "code",
      "execution_count": null,
      "metadata": {
        "colab": {
          "base_uri": "https://localhost:8080/"
        },
        "id": "JBz4MO3NXVPW",
        "outputId": "cd731a67-61ea-40fe-853e-7982e54342f5"
      },
      "outputs": [
        {
          "output_type": "stream",
          "name": "stdout",
          "text": [
            "\u001b[34m\u001b[1mtrain: \u001b[0mweights=yolov5s.pt, cfg=, data=coco128.yaml, hyp=data/hyps/hyp.scratch-low.yaml, epochs=10, batch_size=8, imgsz=640, rect=False, resume=False, nosave=False, noval=False, noautoanchor=False, evolve=None, bucket=, cache=None, image_weights=False, device=, multi_scale=False, single_cls=False, optimizer=SGD, sync_bn=False, workers=8, project=runs/train, name=exp, exist_ok=False, quad=False, cos_lr=False, label_smoothing=0.0, patience=100, freeze=[0], save_period=-1, local_rank=-1, entity=None, upload_dataset=False, bbox_interval=-1, artifact_alias=latest\n",
            "\u001b[34m\u001b[1mgithub: \u001b[0mup to date with https://github.com/ultralytics/yolov5 ✅\n",
            "YOLOv5 🚀 v6.1-119-gaa542ce torch 1.10.0+cu111 CUDA:0 (Tesla K80, 11441MiB)\n",
            "\n",
            "\u001b[34m\u001b[1mhyperparameters: \u001b[0mlr0=0.01, lrf=0.01, momentum=0.937, weight_decay=0.0005, warmup_epochs=3.0, warmup_momentum=0.8, warmup_bias_lr=0.1, box=0.05, cls=0.5, cls_pw=1.0, obj=1.0, obj_pw=1.0, iou_t=0.2, anchor_t=4.0, fl_gamma=0.0, hsv_h=0.015, hsv_s=0.7, hsv_v=0.4, degrees=0.0, translate=0.1, scale=0.5, shear=0.0, perspective=0.0, flipud=0.0, fliplr=0.5, mosaic=1.0, mixup=0.0, copy_paste=0.0\n",
            "\u001b[34m\u001b[1mWeights & Biases: \u001b[0mrun 'pip install wandb' to automatically track and visualize YOLOv5 🚀 runs (RECOMMENDED)\n",
            "\u001b[34m\u001b[1mTensorBoard: \u001b[0mStart with 'tensorboard --logdir runs/train', view at http://localhost:6006/\n",
            "Overriding model.yaml nc=80 with nc=1\n",
            "\n",
            "                 from  n    params  module                                  arguments                     \n",
            "  0                -1  1      3520  models.common.Conv                      [3, 32, 6, 2, 2]              \n",
            "  1                -1  1     18560  models.common.Conv                      [32, 64, 3, 2]                \n",
            "  2                -1  1     18816  models.common.C3                        [64, 64, 1]                   \n",
            "  3                -1  1     73984  models.common.Conv                      [64, 128, 3, 2]               \n",
            "  4                -1  2    115712  models.common.C3                        [128, 128, 2]                 \n",
            "  5                -1  1    295424  models.common.Conv                      [128, 256, 3, 2]              \n",
            "  6                -1  3    625152  models.common.C3                        [256, 256, 3]                 \n",
            "  7                -1  1   1180672  models.common.Conv                      [256, 512, 3, 2]              \n",
            "  8                -1  1   1182720  models.common.C3                        [512, 512, 1]                 \n",
            "  9                -1  1    656896  models.common.SPPF                      [512, 512, 5]                 \n",
            " 10                -1  1    131584  models.common.Conv                      [512, 256, 1, 1]              \n",
            " 11                -1  1         0  torch.nn.modules.upsampling.Upsample    [None, 2, 'nearest']          \n",
            " 12           [-1, 6]  1         0  models.common.Concat                    [1]                           \n",
            " 13                -1  1    361984  models.common.C3                        [512, 256, 1, False]          \n",
            " 14                -1  1     33024  models.common.Conv                      [256, 128, 1, 1]              \n",
            " 15                -1  1         0  torch.nn.modules.upsampling.Upsample    [None, 2, 'nearest']          \n",
            " 16           [-1, 4]  1         0  models.common.Concat                    [1]                           \n",
            " 17                -1  1     90880  models.common.C3                        [256, 128, 1, False]          \n",
            " 18                -1  1    147712  models.common.Conv                      [128, 128, 3, 2]              \n",
            " 19          [-1, 14]  1         0  models.common.Concat                    [1]                           \n",
            " 20                -1  1    296448  models.common.C3                        [256, 256, 1, False]          \n",
            " 21                -1  1    590336  models.common.Conv                      [256, 256, 3, 2]              \n",
            " 22          [-1, 10]  1         0  models.common.Concat                    [1]                           \n",
            " 23                -1  1   1182720  models.common.C3                        [512, 512, 1, False]          \n",
            " 24      [17, 20, 23]  1     16182  models.yolo.Detect                      [1, [[10, 13, 16, 30, 33, 23], [30, 61, 62, 45, 59, 119], [116, 90, 156, 198, 373, 326]], [128, 256, 512]]\n",
            "Model summary: 270 layers, 7022326 parameters, 7022326 gradients, 15.8 GFLOPs\n",
            "\n",
            "Transferred 343/349 items from yolov5s.pt\n",
            "Scaled weight_decay = 0.0005\n",
            "\u001b[34m\u001b[1moptimizer:\u001b[0m SGD with parameter groups 57 weight (no decay), 60 weight, 60 bias\n",
            "\u001b[34m\u001b[1malbumentations: \u001b[0mversion 1.0.3 required by YOLOv5, but version 0.1.12 is currently installed\n",
            "\u001b[34m\u001b[1mtrain: \u001b[0mScanning '/content/drive/MyDrive/dataset/labels/train.cache' images and labels... 531 found, 0 missing, 0 empty, 0 corrupt: 100% 531/531 [00:00<?, ?it/s]\n",
            "\u001b[34m\u001b[1mval: \u001b[0mScanning '/content/drive/MyDrive/dataset/labels/val.cache' images and labels... 94 found, 2 missing, 0 empty, 0 corrupt: 100% 96/96 [00:00<?, ?it/s]\n",
            "Plotting labels to runs/train/exp4/labels.jpg... \n",
            "\n",
            "\u001b[34m\u001b[1mAutoAnchor: \u001b[0m3.57 anchors/target, 0.997 Best Possible Recall (BPR). Current anchors are a good fit to dataset ✅\n",
            "Image sizes 640 train, 640 val\n",
            "Using 2 dataloader workers\n",
            "Logging results to \u001b[1mruns/train/exp4\u001b[0m\n",
            "Starting training for 10 epochs...\n",
            "\n",
            "     Epoch   gpu_mem       box       obj       cls    labels  img_size\n",
            "       0/9      1.7G    0.1261    0.1159         0       154       640: 100% 67/67 [01:12<00:00,  1.08s/it]\n",
            "               Class     Images     Labels          P          R     mAP@.5 mAP@.5:.95:   0% 0/6 [00:00<?, ?it/s]WARNING: NMS time limit 0.580s exceeded\n",
            "               Class     Images     Labels          P          R     mAP@.5 mAP@.5:.95:  17% 1/6 [00:01<00:05,  1.01s/it]WARNING: NMS time limit 0.580s exceeded\n",
            "               Class     Images     Labels          P          R     mAP@.5 mAP@.5:.95:  33% 2/6 [00:02<00:04,  1.04s/it]WARNING: NMS time limit 0.580s exceeded\n",
            "               Class     Images     Labels          P          R     mAP@.5 mAP@.5:.95:  50% 3/6 [00:03<00:03,  1.00s/it]WARNING: NMS time limit 0.580s exceeded\n",
            "               Class     Images     Labels          P          R     mAP@.5 mAP@.5:.95: 100% 6/6 [00:05<00:00,  1.07it/s]\n",
            "                 all         96       3579     0.0405       0.19     0.0252    0.00516\n",
            "\n",
            "     Epoch   gpu_mem       box       obj       cls    labels  img_size\n",
            "       1/9     1.84G    0.1063    0.1105         0       277       640: 100% 67/67 [01:09<00:00,  1.03s/it]\n",
            "               Class     Images     Labels          P          R     mAP@.5 mAP@.5:.95: 100% 6/6 [00:04<00:00,  1.25it/s]\n",
            "                 all         96       3579     0.0615      0.415      0.044    0.00848\n",
            "\n",
            "     Epoch   gpu_mem       box       obj       cls    labels  img_size\n",
            "       2/9     1.84G   0.09384    0.1403         0       229       640: 100% 67/67 [01:09<00:00,  1.03s/it]\n",
            "               Class     Images     Labels          P          R     mAP@.5 mAP@.5:.95: 100% 6/6 [00:04<00:00,  1.30it/s]\n",
            "                 all         96       3579      0.393      0.477      0.351     0.0923\n",
            "\n",
            "     Epoch   gpu_mem       box       obj       cls    labels  img_size\n",
            "       3/9     1.84G   0.09174    0.1531         0        62       640: 100% 67/67 [01:08<00:00,  1.03s/it]\n",
            "               Class     Images     Labels          P          R     mAP@.5 mAP@.5:.95: 100% 6/6 [00:04<00:00,  1.38it/s]\n",
            "                 all         96       3579      0.364      0.327      0.296     0.0808\n",
            "\n",
            "     Epoch   gpu_mem       box       obj       cls    labels  img_size\n",
            "       4/9     1.84G   0.07811    0.1539         0       110       640: 100% 67/67 [01:08<00:00,  1.03s/it]\n",
            "               Class     Images     Labels          P          R     mAP@.5 mAP@.5:.95: 100% 6/6 [00:03<00:00,  1.55it/s]\n",
            "                 all         96       3579      0.317      0.423      0.305     0.0992\n",
            "\n",
            "     Epoch   gpu_mem       box       obj       cls    labels  img_size\n",
            "       5/9     1.84G   0.07019     0.147         0       120       640: 100% 67/67 [01:09<00:00,  1.03s/it]\n",
            "               Class     Images     Labels          P          R     mAP@.5 mAP@.5:.95: 100% 6/6 [00:03<00:00,  1.58it/s]\n",
            "                 all         96       3579      0.537      0.537      0.508      0.193\n",
            "\n",
            "     Epoch   gpu_mem       box       obj       cls    labels  img_size\n",
            "       6/9     1.84G   0.06377     0.141         0       174       640: 100% 67/67 [01:09<00:00,  1.04s/it]\n",
            "               Class     Images     Labels          P          R     mAP@.5 mAP@.5:.95: 100% 6/6 [00:03<00:00,  1.65it/s]\n",
            "                 all         96       3579      0.576      0.579      0.574      0.256\n",
            "\n",
            "     Epoch   gpu_mem       box       obj       cls    labels  img_size\n",
            "       7/9     1.84G   0.06086    0.1478         0       154       640: 100% 67/67 [01:08<00:00,  1.02s/it]\n",
            "               Class     Images     Labels          P          R     mAP@.5 mAP@.5:.95: 100% 6/6 [00:03<00:00,  1.59it/s]\n",
            "                 all         96       3579      0.549      0.607      0.573      0.218\n",
            "\n",
            "     Epoch   gpu_mem       box       obj       cls    labels  img_size\n",
            "       8/9     1.84G   0.05812    0.1466         0       155       640: 100% 67/67 [01:08<00:00,  1.03s/it]\n",
            "               Class     Images     Labels          P          R     mAP@.5 mAP@.5:.95: 100% 6/6 [00:03<00:00,  1.66it/s]\n",
            "                 all         96       3579      0.579      0.626      0.589      0.288\n",
            "\n",
            "     Epoch   gpu_mem       box       obj       cls    labels  img_size\n",
            "       9/9     1.84G   0.05653    0.1411         0       246       640: 100% 67/67 [01:08<00:00,  1.03s/it]\n",
            "               Class     Images     Labels          P          R     mAP@.5 mAP@.5:.95: 100% 6/6 [00:03<00:00,  1.59it/s]\n",
            "                 all         96       3579      0.575      0.624      0.588      0.288\n",
            "\n",
            "10 epochs completed in 0.207 hours.\n",
            "Optimizer stripped from runs/train/exp4/weights/last.pt, 14.4MB\n",
            "Optimizer stripped from runs/train/exp4/weights/best.pt, 14.4MB\n",
            "\n",
            "Validating runs/train/exp4/weights/best.pt...\n",
            "Fusing layers... \n",
            "Model summary: 213 layers, 7012822 parameters, 0 gradients, 15.8 GFLOPs\n",
            "               Class     Images     Labels          P          R     mAP@.5 mAP@.5:.95: 100% 6/6 [00:12<00:00,  2.06s/it]\n",
            "                 all         96       3579      0.578      0.626      0.589      0.288\n",
            "Results saved to \u001b[1mruns/train/exp4\u001b[0m\n"
          ]
        }
      ],
      "source": [
        "!python train.py --img 640 --batch 8 --epochs 10 --data coco128.yaml --weights yolov5s.pt"
      ]
    },
    {
      "cell_type": "markdown",
      "metadata": {
        "id": "5STJ2WzXHVPx"
      },
      "source": [
        "### Validate"
      ]
    },
    {
      "cell_type": "code",
      "execution_count": null,
      "metadata": {
        "colab": {
          "base_uri": "https://localhost:8080/"
        },
        "id": "vkcJGHFmcPf3",
        "outputId": "8f6b7c65-96c8-4640-f7e6-e867799d04e6"
      },
      "outputs": [
        {
          "output_type": "stream",
          "name": "stdout",
          "text": [
            "\u001b[34m\u001b[1mval: \u001b[0mdata=/content/yolov5/data/coco128.yaml, weights=['/content/yolov5/runs/train/exp/weights/best.pt'], batch_size=8, imgsz=640, conf_thres=0.001, iou_thres=0.6, task=val, device=, workers=8, single_cls=False, augment=False, verbose=False, save_txt=False, save_hybrid=False, save_conf=False, save_json=False, project=runs/val, name=exp, exist_ok=False, half=False, dnn=False\n",
            "YOLOv5 🚀 v6.1-117-g698a5d7 torch 1.10.0+cu111 CUDA:0 (Tesla K80, 11441MiB)\n",
            "\n",
            "Fusing layers... \n",
            "Model summary: 213 layers, 7012822 parameters, 0 gradients, 15.8 GFLOPs\n",
            "\u001b[34m\u001b[1mval: \u001b[0mScanning '/content/drive/MyDrive/dataset/labels/val.cache' images and labels... 94 found, 2 missing, 0 empty, 0 corrupt: 100% 96/96 [00:00<?, ?it/s]\n",
            "               Class     Images     Labels          P          R     mAP@.5 mAP@.5:.95: 100% 12/12 [00:08<00:00,  1.36it/s]\n",
            "                 all         96       3579      0.568      0.637      0.593      0.282\n",
            "Speed: 0.4ms pre-process, 13.0ms inference, 5.3ms NMS per image at shape (8, 3, 640, 640)\n",
            "Results saved to \u001b[1mruns/val/exp\u001b[0m\n"
          ]
        }
      ],
      "source": [
        "!python val.py --weights /content/yolov5/runs/train/exp/weights/best.pt --data coco128.yaml --img 640 --batch 8"
      ]
    },
    {
      "cell_type": "markdown",
      "metadata": {
        "id": "Ho3WYz5n_Euy"
      },
      "source": [
        "### Test"
      ]
    },
    {
      "cell_type": "code",
      "execution_count": null,
      "metadata": {
        "colab": {
          "base_uri": "https://localhost:8080/"
        },
        "id": "T3Kvm9M--r9r",
        "outputId": "e5edf0fb-d4b6-49fc-9f9b-8b9c93fca141"
      },
      "outputs": [
        {
          "output_type": "stream",
          "name": "stdout",
          "text": [
            "\u001b[34m\u001b[1mdetect: \u001b[0mweights=['/content/yolov5/runs/train/exp/weights/best.pt'], source=/content/drive/MyDrive/dataset/images/test, data=data/coco128.yaml, imgsz=[640, 640], conf_thres=0.25, iou_thres=0.45, max_det=1000, device=, view_img=False, save_txt=False, save_conf=False, save_crop=False, nosave=False, classes=None, agnostic_nms=False, augment=False, visualize=False, update=False, project=runs/detect, name=exp, exist_ok=False, line_thickness=3, hide_labels=False, hide_conf=False, half=False, dnn=False\n",
            "YOLOv5 🚀 v6.1-117-g698a5d7 torch 1.10.0+cu111 CUDA:0 (Tesla K80, 11441MiB)\n",
            "\n",
            "Fusing layers... \n",
            "Model summary: 213 layers, 7012822 parameters, 0 gradients, 15.8 GFLOPs\n",
            "image 1/25 /content/drive/MyDrive/dataset/images/test/apple_test (312).png: 640x384 89 apples, Done. (0.028s)\n",
            "image 2/25 /content/drive/MyDrive/dataset/images/test/apple_test (313).png: 640x384 87 apples, Done. (0.028s)\n",
            "image 3/25 /content/drive/MyDrive/dataset/images/test/apple_test (314).png: 640x384 66 apples, Done. (0.028s)\n",
            "image 4/25 /content/drive/MyDrive/dataset/images/test/apple_test (315).png: 640x384 70 apples, Done. (0.028s)\n",
            "image 5/25 /content/drive/MyDrive/dataset/images/test/apple_test (316).png: 640x384 70 apples, Done. (0.028s)\n",
            "image 6/25 /content/drive/MyDrive/dataset/images/test/apple_test (317).png: 640x384 61 apples, Done. (0.028s)\n",
            "image 7/25 /content/drive/MyDrive/dataset/images/test/apple_test (318).png: 640x384 64 apples, Done. (0.028s)\n",
            "image 8/25 /content/drive/MyDrive/dataset/images/test/apple_test (319).png: 640x384 64 apples, Done. (0.028s)\n",
            "image 9/25 /content/drive/MyDrive/dataset/images/test/apple_test (320).png: 640x384 61 apples, Done. (0.028s)\n",
            "image 10/25 /content/drive/MyDrive/dataset/images/test/apple_test (321).png: 640x384 56 apples, Done. (0.028s)\n",
            "image 11/25 /content/drive/MyDrive/dataset/images/test/apple_test (322).png: 640x384 64 apples, Done. (0.028s)\n",
            "image 12/25 /content/drive/MyDrive/dataset/images/test/apple_test (323).png: 640x384 55 apples, Done. (0.028s)\n",
            "image 13/25 /content/drive/MyDrive/dataset/images/test/apple_test (324).png: 640x384 38 apples, Done. (0.028s)\n",
            "image 14/25 /content/drive/MyDrive/dataset/images/test/apple_test (325).png: 640x384 58 apples, Done. (0.028s)\n",
            "image 15/25 /content/drive/MyDrive/dataset/images/test/apple_test (326).png: 640x384 50 apples, Done. (0.028s)\n",
            "image 16/25 /content/drive/MyDrive/dataset/images/test/apple_test (327).png: 640x384 44 apples, Done. (0.028s)\n",
            "image 17/25 /content/drive/MyDrive/dataset/images/test/apple_test (328).png: 640x384 61 apples, Done. (0.028s)\n",
            "image 18/25 /content/drive/MyDrive/dataset/images/test/apple_test_new (1).jpg: 640x640 Done. (0.033s)\n",
            "image 19/25 /content/drive/MyDrive/dataset/images/test/apple_test_new (2).jpg: 640x640 Done. (0.033s)\n",
            "image 20/25 /content/drive/MyDrive/dataset/images/test/apple_test_new (3).jpg: 640x640 1 apple, Done. (0.033s)\n",
            "image 21/25 /content/drive/MyDrive/dataset/images/test/apple_test_new (4).jpg: 640x480 43 apples, Done. (0.029s)\n",
            "image 22/25 /content/drive/MyDrive/dataset/images/test/apple_test_new (5).jpg: 640x544 2 apples, Done. (0.030s)\n",
            "image 23/25 /content/drive/MyDrive/dataset/images/test/apple_test_new (6).jpg: 384x640 17 apples, Done. (0.027s)\n",
            "image 24/25 /content/drive/MyDrive/dataset/images/test/apple_test_new (7).jpg: 352x640 22 apples, Done. (0.026s)\n",
            "image 25/25 /content/drive/MyDrive/dataset/images/test/apple_test_new (8).jpg: 480x640 25 apples, Done. (0.030s)\n",
            "Speed: 0.5ms pre-process, 28.6ms inference, 1.5ms NMS per image at shape (1, 3, 640, 640)\n",
            "Results saved to \u001b[1mruns/detect/exp3\u001b[0m\n"
          ]
        }
      ],
      "source": [
        "!python detect.py --source /content/drive/MyDrive/dataset/images/test --weights /content/yolov5/runs/train/exp/weights/best.pt "
      ]
    },
    {
      "cell_type": "markdown",
      "source": [
        "### Export .pt to .tflite"
      ],
      "metadata": {
        "id": "b3zL5bbHqawe"
      }
    },
    {
      "cell_type": "code",
      "execution_count": null,
      "metadata": {
        "colab": {
          "base_uri": "https://localhost:8080/"
        },
        "id": "4oQz-EJJfQ5S",
        "outputId": "3e8ac716-20f9-45de-9dcb-171c184b10b4"
      },
      "outputs": [
        {
          "output_type": "stream",
          "name": "stdout",
          "text": [
            "\u001b[34m\u001b[1mexport: \u001b[0mdata=data/coco128.yaml, weights=['/content/yolov5/runs/train/exp/weights/best.pt'], imgsz=[640, 640], batch_size=1, device=cpu, half=False, inplace=False, train=False, optimize=False, int8=False, dynamic=False, simplify=False, opset=12, verbose=False, workspace=4, nms=False, agnostic_nms=False, topk_per_class=100, topk_all=100, iou_thres=0.45, conf_thres=0.25, include=['tflite']\n",
            "YOLOv5 🚀 v6.1-117-g698a5d7 torch 1.10.0+cu111 CPU\n",
            "\n",
            "Fusing layers... \n",
            "Model summary: 213 layers, 7012822 parameters, 0 gradients, 15.8 GFLOPs\n",
            "\n",
            "\u001b[34m\u001b[1mPyTorch:\u001b[0m starting from /content/yolov5/runs/train/exp/weights/best.pt with output shape (1, 25200, 6) (13.7 MB)\n",
            "\n",
            "\u001b[34m\u001b[1mTensorFlow SavedModel:\u001b[0m starting export with tensorflow 2.8.0...\n",
            "\n",
            "                 from  n    params  module                                  arguments                     \n",
            "2022-04-09 12:29:44.144784: E tensorflow/stream_executor/cuda/cuda_driver.cc:271] failed call to cuInit: CUDA_ERROR_NO_DEVICE: no CUDA-capable device is detected\n",
            "  0                -1  1      3520  models.common.Conv                      [3, 32, 6, 2, 2]              \n",
            "  1                -1  1     18560  models.common.Conv                      [32, 64, 3, 2]                \n",
            "  2                -1  1     18816  models.common.C3                        [64, 64, 1]                   \n",
            "  3                -1  1     73984  models.common.Conv                      [64, 128, 3, 2]               \n",
            "  4                -1  1    115712  models.common.C3                        [128, 128, 2]                 \n",
            "  5                -1  1    295424  models.common.Conv                      [128, 256, 3, 2]              \n",
            "  6                -1  1    625152  models.common.C3                        [256, 256, 3]                 \n",
            "  7                -1  1   1180672  models.common.Conv                      [256, 512, 3, 2]              \n",
            "  8                -1  1   1182720  models.common.C3                        [512, 512, 1]                 \n",
            "  9                -1  1    656896  models.common.SPPF                      [512, 512, 5]                 \n",
            " 10                -1  1    131584  models.common.Conv                      [512, 256, 1, 1]              \n",
            " 11                -1  1         0  torch.nn.modules.upsampling.Upsample    [None, 2, 'nearest']          \n",
            " 12           [-1, 6]  1         0  models.common.Concat                    [1]                           \n",
            " 13                -1  1    361984  models.common.C3                        [512, 256, 1, False]          \n",
            " 14                -1  1     33024  models.common.Conv                      [256, 128, 1, 1]              \n",
            " 15                -1  1         0  torch.nn.modules.upsampling.Upsample    [None, 2, 'nearest']          \n",
            " 16           [-1, 4]  1         0  models.common.Concat                    [1]                           \n",
            " 17                -1  1     90880  models.common.C3                        [256, 128, 1, False]          \n",
            " 18                -1  1    147712  models.common.Conv                      [128, 128, 3, 2]              \n",
            " 19          [-1, 14]  1         0  models.common.Concat                    [1]                           \n",
            " 20                -1  1    296448  models.common.C3                        [256, 256, 1, False]          \n",
            " 21                -1  1    590336  models.common.Conv                      [256, 256, 3, 2]              \n",
            " 22          [-1, 10]  1         0  models.common.Concat                    [1]                           \n",
            " 23                -1  1   1182720  models.common.C3                        [512, 512, 1, False]          \n",
            " 24      [17, 20, 23]  1     16182  models.yolo.Detect                      [1, [[10, 13, 16, 30, 33, 23], [30, 61, 62, 45, 59, 119], [116, 90, 156, 198, 373, 326]], [128, 256, 512], [640, 640]]\n",
            "Model: \"model\"\n",
            "__________________________________________________________________________________________________\n",
            " Layer (type)                   Output Shape         Param #     Connected to                     \n",
            "==================================================================================================\n",
            " input_1 (InputLayer)           [(1, 640, 640, 3)]   0           []                               \n",
            "                                                                                                  \n",
            " tf_conv (TFConv)               (1, 320, 320, 32)    3488        ['input_1[0][0]']                \n",
            "                                                                                                  \n",
            " tf_conv_1 (TFConv)             (1, 160, 160, 64)    18496       ['tf_conv[0][0]']                \n",
            "                                                                                                  \n",
            " tfc3 (TFC3)                    (1, 160, 160, 64)    18624       ['tf_conv_1[0][0]']              \n",
            "                                                                                                  \n",
            " tf_conv_7 (TFConv)             (1, 80, 80, 128)     73856       ['tfc3[0][0]']                   \n",
            "                                                                                                  \n",
            " tfc3_1 (TFC3)                  (1, 80, 80, 128)     115200      ['tf_conv_7[0][0]']              \n",
            "                                                                                                  \n",
            " tf_conv_15 (TFConv)            (1, 40, 40, 256)     295168      ['tfc3_1[0][0]']                 \n",
            "                                                                                                  \n",
            " tfc3_2 (TFC3)                  (1, 40, 40, 256)     623872      ['tf_conv_15[0][0]']             \n",
            "                                                                                                  \n",
            " tf_conv_25 (TFConv)            (1, 20, 20, 512)     1180160     ['tfc3_2[0][0]']                 \n",
            "                                                                                                  \n",
            " tfc3_3 (TFC3)                  (1, 20, 20, 512)     1181184     ['tf_conv_25[0][0]']             \n",
            "                                                                                                  \n",
            " tfsppf (TFSPPF)                (1, 20, 20, 512)     656128      ['tfc3_3[0][0]']                 \n",
            "                                                                                                  \n",
            " tf_conv_33 (TFConv)            (1, 20, 20, 256)     131328      ['tfsppf[0][0]']                 \n",
            "                                                                                                  \n",
            " tf_upsample (TFUpsample)       (1, 40, 40, 256)     0           ['tf_conv_33[0][0]']             \n",
            "                                                                                                  \n",
            " tf_concat (TFConcat)           (1, 40, 40, 512)     0           ['tf_upsample[0][0]',            \n",
            "                                                                  'tfc3_2[0][0]']                 \n",
            "                                                                                                  \n",
            " tfc3_4 (TFC3)                  (1, 40, 40, 256)     361216      ['tf_concat[0][0]']              \n",
            "                                                                                                  \n",
            " tf_conv_39 (TFConv)            (1, 40, 40, 128)     32896       ['tfc3_4[0][0]']                 \n",
            "                                                                                                  \n",
            " tf_upsample_1 (TFUpsample)     (1, 80, 80, 128)     0           ['tf_conv_39[0][0]']             \n",
            "                                                                                                  \n",
            " tf_concat_1 (TFConcat)         (1, 80, 80, 256)     0           ['tf_upsample_1[0][0]',          \n",
            "                                                                  'tfc3_1[0][0]']                 \n",
            "                                                                                                  \n",
            " tfc3_5 (TFC3)                  (1, 80, 80, 128)     90496       ['tf_concat_1[0][0]']            \n",
            "                                                                                                  \n",
            " tf_conv_45 (TFConv)            (1, 40, 40, 128)     147584      ['tfc3_5[0][0]']                 \n",
            "                                                                                                  \n",
            " tf_concat_2 (TFConcat)         (1, 40, 40, 256)     0           ['tf_conv_45[0][0]',             \n",
            "                                                                  'tf_conv_39[0][0]']             \n",
            "                                                                                                  \n",
            " tfc3_6 (TFC3)                  (1, 40, 40, 256)     295680      ['tf_concat_2[0][0]']            \n",
            "                                                                                                  \n",
            " tf_conv_51 (TFConv)            (1, 20, 20, 256)     590080      ['tfc3_6[0][0]']                 \n",
            "                                                                                                  \n",
            " tf_concat_3 (TFConcat)         (1, 20, 20, 512)     0           ['tf_conv_51[0][0]',             \n",
            "                                                                  'tf_conv_33[0][0]']             \n",
            "                                                                                                  \n",
            " tfc3_7 (TFC3)                  (1, 20, 20, 512)     1181184     ['tf_concat_3[0][0]']            \n",
            "                                                                                                  \n",
            " tf_detect (TFDetect)           ((1, 25200, 6),      16182       ['tfc3_5[0][0]',                 \n",
            "                                 [(1, 6400, 3, 6),                'tfc3_6[0][0]',                 \n",
            "                                 (1, 1600, 3, 6),                 'tfc3_7[0][0]']                 \n",
            "                                 (1, 400, 3, 6)])                                                 \n",
            "                                                                                                  \n",
            "==================================================================================================\n",
            "Total params: 7,012,822\n",
            "Trainable params: 0\n",
            "Non-trainable params: 7,012,822\n",
            "__________________________________________________________________________________________________\n",
            "2022-04-09 12:29:51.293995: W tensorflow/python/util/util.cc:368] Sets are not currently considered sequences, but this may change in the future, so consider avoiding using them.\n",
            "Assets written to: /content/yolov5/runs/train/exp/weights/best_saved_model/assets\n",
            "\u001b[34m\u001b[1mTensorFlow SavedModel:\u001b[0m export success, saved as /content/yolov5/runs/train/exp/weights/best_saved_model (27.0 MB)\n",
            "\n",
            "\u001b[34m\u001b[1mTensorFlow Lite:\u001b[0m starting export with tensorflow 2.8.0...\n",
            "Found untraced functions such as tf_conv_2_layer_call_fn, tf_conv_2_layer_call_and_return_conditional_losses, tf_conv_3_layer_call_fn, tf_conv_3_layer_call_and_return_conditional_losses, tf_conv_4_layer_call_fn while saving (showing 5 of 208). These functions will not be directly callable after loading.\n",
            "Assets written to: /tmp/tmpxhnksfmh/assets\n",
            "2022-04-09 12:30:56.317636: W tensorflow/compiler/mlir/lite/python/tf_tfl_flatbuffer_helpers.cc:357] Ignored output_format.\n",
            "2022-04-09 12:30:56.317696: W tensorflow/compiler/mlir/lite/python/tf_tfl_flatbuffer_helpers.cc:360] Ignored drop_control_dependency.\n",
            "Estimated count of arithmetic ops: 17.335 G  ops, equivalently 8.668 G  MACs\n",
            "Buffer deduplication procedure will be skipped when flatbuffer library is not properly loaded\n",
            "\u001b[34m\u001b[1mTensorFlow Lite:\u001b[0m export success, saved as /content/yolov5/runs/train/exp/weights/best-fp16.tflite (13.5 MB)\n",
            "\n",
            "Export complete (79.14s)\n",
            "Results saved to \u001b[1m/content/yolov5/runs/train/exp/weights\u001b[0m\n",
            "Detect:          python detect.py --weights /content/yolov5/runs/train/exp/weights/best-fp16.tflite\n",
            "PyTorch Hub:     model = torch.hub.load('ultralytics/yolov5', 'custom', '/content/yolov5/runs/train/exp/weights/best-fp16.tflite')\n",
            "Validate:        python val.py --weights /content/yolov5/runs/train/exp/weights/best-fp16.tflite\n",
            "Visualize:       https://netron.app\n"
          ]
        }
      ],
      "source": [
        "!python export.py --weights /content/yolov5/runs/train/exp/weights/best.pt --include tflite"
      ]
    },
    {
      "cell_type": "markdown",
      "source": [
        "### Zip the YOLOv5 Directory "
      ],
      "metadata": {
        "id": "X9LJD2uHqiZT"
      }
    },
    {
      "cell_type": "code",
      "source": [
        "!zip -r /content/yolov5.zip /content/yolov5"
      ],
      "metadata": {
        "colab": {
          "base_uri": "https://localhost:8080/"
        },
        "id": "4tRsCfONqrjF",
        "outputId": "7f75ef5e-1f4f-4959-81a6-4245906948e5"
      },
      "execution_count": null,
      "outputs": [
        {
          "output_type": "stream",
          "name": "stdout",
          "text": [
            "  adding: content/yolov5/ (stored 0%)\n",
            "  adding: content/yolov5/models/ (stored 0%)\n",
            "  adding: content/yolov5/models/yolov5s.yaml (deflated 60%)\n",
            "  adding: content/yolov5/models/tf.py (deflated 71%)\n",
            "  adding: content/yolov5/models/experimental.py (deflated 60%)\n",
            "  adding: content/yolov5/models/yolo.py (deflated 65%)\n",
            "  adding: content/yolov5/models/__pycache__/ (stored 0%)\n",
            "  adding: content/yolov5/models/__pycache__/__init__.cpython-37.pyc (deflated 26%)\n",
            "  adding: content/yolov5/models/__pycache__/yolo.cpython-37.pyc (deflated 46%)\n",
            "  adding: content/yolov5/models/__pycache__/tf.cpython-37.pyc (deflated 55%)\n",
            "  adding: content/yolov5/models/__pycache__/experimental.cpython-37.pyc (deflated 46%)\n",
            "  adding: content/yolov5/models/__pycache__/common.cpython-37.pyc (deflated 56%)\n",
            "  adding: content/yolov5/models/yolov5m.yaml (deflated 60%)\n",
            "  adding: content/yolov5/models/__init__.py (stored 0%)\n",
            "  adding: content/yolov5/models/yolov5l.yaml (deflated 61%)\n",
            "  adding: content/yolov5/models/yolov5n.yaml (deflated 60%)\n",
            "  adding: content/yolov5/models/common.py (deflated 71%)\n",
            "  adding: content/yolov5/models/hub/ (stored 0%)\n",
            "  adding: content/yolov5/models/hub/yolov5-p7.yaml (deflated 69%)\n",
            "  adding: content/yolov5/models/hub/yolov5-p34.yaml (deflated 62%)\n",
            "  adding: content/yolov5/models/hub/yolov5-bifpn.yaml (deflated 60%)\n",
            "  adding: content/yolov5/models/hub/yolov5n6.yaml (deflated 65%)\n",
            "  adding: content/yolov5/models/hub/yolov3.yaml (deflated 63%)\n",
            "  adding: content/yolov5/models/hub/yolov5m6.yaml (deflated 65%)\n",
            "  adding: content/yolov5/models/hub/yolov5s6.yaml (deflated 65%)\n",
            "  adding: content/yolov5/models/hub/yolov5-panet.yaml (deflated 60%)\n",
            "  adding: content/yolov5/models/hub/anchors.yaml (deflated 72%)\n",
            "  adding: content/yolov5/models/hub/yolov5x6.yaml (deflated 65%)\n",
            "  adding: content/yolov5/models/hub/yolov5-p2.yaml (deflated 66%)\n",
            "  adding: content/yolov5/models/hub/yolov3-tiny.yaml (deflated 60%)\n",
            "  adding: content/yolov5/models/hub/yolov5s-transformer.yaml (deflated 60%)\n",
            "  adding: content/yolov5/models/hub/yolov5-fpn.yaml (deflated 57%)\n",
            "  adding: content/yolov5/models/hub/yolov5-p6.yaml (deflated 66%)\n",
            "  adding: content/yolov5/models/hub/yolov3-spp.yaml (deflated 63%)\n",
            "  adding: content/yolov5/models/hub/yolov5s-ghost.yaml (deflated 62%)\n",
            "  adding: content/yolov5/models/hub/yolov5l6.yaml (deflated 65%)\n",
            "  adding: content/yolov5/models/yolov5x.yaml (deflated 60%)\n",
            "  adding: content/yolov5/detect.py (deflated 68%)\n",
            "  adding: content/yolov5/Dockerfile (deflated 55%)\n",
            "  adding: content/yolov5/.dockerignore (deflated 56%)\n",
            "  adding: content/yolov5/.github/ (stored 0%)\n",
            "  adding: content/yolov5/.github/CODE_OF_CONDUCT.md (deflated 60%)\n",
            "  adding: content/yolov5/.github/FUNDING.yml (deflated 20%)\n",
            "  adding: content/yolov5/.github/PULL_REQUEST_TEMPLATE.md (deflated 40%)\n",
            "  adding: content/yolov5/.github/ISSUE_TEMPLATE/ (stored 0%)\n",
            "  adding: content/yolov5/.github/ISSUE_TEMPLATE/bug-report.yml (deflated 59%)\n",
            "  adding: content/yolov5/.github/ISSUE_TEMPLATE/question.yml (deflated 57%)\n",
            "  adding: content/yolov5/.github/ISSUE_TEMPLATE/feature-request.yml (deflated 61%)\n",
            "  adding: content/yolov5/.github/ISSUE_TEMPLATE/config.yml (deflated 34%)\n",
            "  adding: content/yolov5/.github/dependabot.yml (deflated 60%)\n",
            "  adding: content/yolov5/.github/SECURITY.md (deflated 33%)\n",
            "  adding: content/yolov5/.github/workflows/ (stored 0%)\n",
            "  adding: content/yolov5/.github/workflows/stale.yml (deflated 58%)\n",
            "  adding: content/yolov5/.github/workflows/ci-testing.yml (deflated 60%)\n",
            "  adding: content/yolov5/.github/workflows/codeql-analysis.yml (deflated 52%)\n",
            "  adding: content/yolov5/.github/workflows/greetings.yml (deflated 61%)\n",
            "  adding: content/yolov5/.github/workflows/rebase.yml (deflated 45%)\n",
            "  adding: content/yolov5/LICENSE (deflated 66%)\n",
            "  adding: content/yolov5/val.py (deflated 67%)\n",
            "  adding: content/yolov5/export.py (deflated 73%)\n",
            "  adding: content/yolov5/hubconf.py (deflated 73%)\n",
            "  adding: content/yolov5/yolov5s.pt (deflated 9%)\n",
            "  adding: content/yolov5/__pycache__/ (stored 0%)\n",
            "  adding: content/yolov5/__pycache__/export.cpython-37.pyc (deflated 53%)\n",
            "  adding: content/yolov5/__pycache__/val.cpython-37.pyc (deflated 43%)\n",
            "  adding: content/yolov5/runs/ (stored 0%)\n",
            "  adding: content/yolov5/runs/val/ (stored 0%)\n",
            "  adding: content/yolov5/runs/val/exp/ (stored 0%)\n",
            "  adding: content/yolov5/runs/val/exp/val_batch0_labels.jpg (deflated 3%)\n",
            "  adding: content/yolov5/runs/val/exp/PR_curve.png (deflated 17%)\n",
            "  adding: content/yolov5/runs/val/exp/val_batch0_pred.jpg (deflated 2%)\n",
            "  adding: content/yolov5/runs/val/exp/val_batch2_labels.jpg (deflated 3%)\n",
            "  adding: content/yolov5/runs/val/exp/val_batch1_pred.jpg (deflated 3%)\n",
            "  adding: content/yolov5/runs/val/exp/confusion_matrix.png (deflated 39%)\n",
            "  adding: content/yolov5/runs/val/exp/val_batch1_labels.jpg (deflated 3%)\n",
            "  adding: content/yolov5/runs/val/exp/P_curve.png (deflated 18%)\n",
            "  adding: content/yolov5/runs/val/exp/F1_curve.png (deflated 20%)\n",
            "  adding: content/yolov5/runs/val/exp/val_batch2_pred.jpg (deflated 3%)\n",
            "  adding: content/yolov5/runs/val/exp/R_curve.png (deflated 18%)\n",
            "  adding: content/yolov5/runs/train/ (stored 0%)\n",
            "  adding: content/yolov5/runs/train/exp/ (stored 0%)\n",
            "  adding: content/yolov5/runs/train/exp/val_batch0_labels.jpg (deflated 2%)\n",
            "  adding: content/yolov5/runs/train/exp/train_batch0.jpg (deflated 2%)\n",
            "  adding: content/yolov5/runs/train/exp/hyp.yaml (deflated 45%)\n",
            "  adding: content/yolov5/runs/train/exp/opt.yaml (deflated 42%)\n",
            "  adding: content/yolov5/runs/train/exp/PR_curve.png (deflated 17%)\n",
            "  adding: content/yolov5/runs/train/exp/val_batch0_pred.jpg (deflated 2%)\n",
            "  adding: content/yolov5/runs/train/exp/val_batch2_labels.jpg (deflated 2%)\n",
            "  adding: content/yolov5/runs/train/exp/val_batch1_pred.jpg (deflated 2%)\n",
            "  adding: content/yolov5/runs/train/exp/events.out.tfevents.1649503393.496b508dc6d4.365.0 (deflated 39%)\n",
            "  adding: content/yolov5/runs/train/exp/confusion_matrix.png (deflated 39%)\n",
            "  adding: content/yolov5/runs/train/exp/train_batch1.jpg (deflated 3%)\n",
            "  adding: content/yolov5/runs/train/exp/results.csv (deflated 84%)\n",
            "  adding: content/yolov5/runs/train/exp/val_batch1_labels.jpg (deflated 2%)\n",
            "  adding: content/yolov5/runs/train/exp/P_curve.png (deflated 18%)\n",
            "  adding: content/yolov5/runs/train/exp/labels.jpg (deflated 19%)\n",
            "  adding: content/yolov5/runs/train/exp/F1_curve.png (deflated 20%)\n",
            "  adding: content/yolov5/runs/train/exp/results.png (deflated 9%)\n",
            "  adding: content/yolov5/runs/train/exp/val_batch2_pred.jpg (deflated 2%)\n",
            "  adding: content/yolov5/runs/train/exp/R_curve.png (deflated 18%)\n",
            "  adding: content/yolov5/runs/train/exp/train_batch2.jpg (deflated 2%)\n",
            "  adding: content/yolov5/runs/train/exp/weights/ (stored 0%)\n",
            "  adding: content/yolov5/runs/train/exp/weights/best-fp16.tflite (deflated 8%)\n",
            "  adding: content/yolov5/runs/train/exp/weights/last.pt (deflated 9%)\n",
            "  adding: content/yolov5/runs/train/exp/weights/best.pt (deflated 9%)\n",
            "  adding: content/yolov5/runs/train/exp/weights/best_saved_model/ (stored 0%)\n",
            "  adding: content/yolov5/runs/train/exp/weights/best_saved_model/variables/ (stored 0%)\n",
            "  adding: content/yolov5/runs/train/exp/weights/best_saved_model/variables/variables.data-00000-of-00001 (deflated 4%)\n",
            "  adding: content/yolov5/runs/train/exp/weights/best_saved_model/variables/variables.index (deflated 33%)\n",
            "  adding: content/yolov5/runs/train/exp/weights/best_saved_model/assets/ (stored 0%)\n",
            "  adding: content/yolov5/runs/train/exp/weights/best_saved_model/saved_model.pb (deflated 8%)\n",
            "  adding: content/yolov5/runs/train/exp/labels_correlogram.jpg (deflated 25%)\n",
            "  adding: content/yolov5/runs/detect/ (stored 0%)\n",
            "  adding: content/yolov5/runs/detect/exp3/ (stored 0%)\n",
            "  adding: content/yolov5/runs/detect/exp3/apple_test_new (8).jpg (deflated 1%)\n",
            "  adding: content/yolov5/runs/detect/exp3/apple_test (316).png (deflated 2%)\n",
            "  adding: content/yolov5/runs/detect/exp3/apple_test (318).png (deflated 2%)\n",
            "  adding: content/yolov5/runs/detect/exp3/apple_test (317).png (deflated 2%)\n",
            "  adding: content/yolov5/runs/detect/exp3/apple_test (319).png (deflated 2%)\n",
            "  adding: content/yolov5/runs/detect/exp3/apple_test (313).png (deflated 2%)\n",
            "  adding: content/yolov5/runs/detect/exp3/apple_test (327).png (deflated 2%)\n",
            "  adding: content/yolov5/runs/detect/exp3/apple_test (321).png (deflated 2%)\n",
            "  adding: content/yolov5/runs/detect/exp3/apple_test (323).png (deflated 2%)\n",
            "  adding: content/yolov5/runs/detect/exp3/apple_test_new (4).jpg (deflated 1%)\n",
            "  adding: content/yolov5/runs/detect/exp3/apple_test (312).png (deflated 2%)\n",
            "  adding: content/yolov5/runs/detect/exp3/apple_test_new (3).jpg (deflated 8%)\n",
            "  adding: content/yolov5/runs/detect/exp3/apple_test (320).png (deflated 2%)\n",
            "  adding: content/yolov5/runs/detect/exp3/apple_test (326).png (deflated 2%)\n",
            "  adding: content/yolov5/runs/detect/exp3/apple_test (314).png (deflated 2%)\n",
            "  adding: content/yolov5/runs/detect/exp3/apple_test (322).png (deflated 2%)\n",
            "  adding: content/yolov5/runs/detect/exp3/apple_test_new (7).jpg (deflated 1%)\n",
            "  adding: content/yolov5/runs/detect/exp3/apple_test_new (5).jpg (deflated 9%)\n",
            "  adding: content/yolov5/runs/detect/exp3/apple_test_new (1).jpg (deflated 4%)\n",
            "  adding: content/yolov5/runs/detect/exp3/apple_test_new (2).jpg (deflated 8%)\n",
            "  adding: content/yolov5/runs/detect/exp3/apple_test (324).png (deflated 2%)\n",
            "  adding: content/yolov5/runs/detect/exp3/apple_test (315).png (deflated 2%)\n",
            "  adding: content/yolov5/runs/detect/exp3/apple_test_new (6).jpg (deflated 1%)\n",
            "  adding: content/yolov5/runs/detect/exp3/apple_test (325).png (deflated 2%)\n",
            "  adding: content/yolov5/runs/detect/exp3/apple_test (328).png (deflated 2%)\n",
            "  adding: content/yolov5/runs/detect/exp2/ (stored 0%)\n",
            "  adding: content/yolov5/runs/detect/exp2/apple_test (316).png (deflated 2%)\n",
            "  adding: content/yolov5/runs/detect/exp2/apple_test (318).png (deflated 2%)\n",
            "  adding: content/yolov5/runs/detect/exp2/apple_test (317).png (deflated 2%)\n",
            "  adding: content/yolov5/runs/detect/exp2/apple_test (319).png (deflated 2%)\n",
            "  adding: content/yolov5/runs/detect/exp2/apple_test (313).png (deflated 2%)\n",
            "  adding: content/yolov5/runs/detect/exp2/apple_test (327).png (deflated 2%)\n",
            "  adding: content/yolov5/runs/detect/exp2/apple_test (321).png (deflated 2%)\n",
            "  adding: content/yolov5/runs/detect/exp2/apple_test (323).png (deflated 2%)\n",
            "  adding: content/yolov5/runs/detect/exp2/apple_test (312).png (deflated 2%)\n",
            "  adding: content/yolov5/runs/detect/exp2/apple_test (320).png (deflated 2%)\n",
            "  adding: content/yolov5/runs/detect/exp2/apple_test (326).png (deflated 2%)\n",
            "  adding: content/yolov5/runs/detect/exp2/apple_test (314).png (deflated 2%)\n",
            "  adding: content/yolov5/runs/detect/exp2/apple_test (322).png (deflated 2%)\n",
            "  adding: content/yolov5/runs/detect/exp2/apple_test_new (1).jpg (deflated 4%)\n",
            "  adding: content/yolov5/runs/detect/exp2/apple_test_new (2).jpg (deflated 8%)\n",
            "  adding: content/yolov5/runs/detect/exp2/apple_test (324).png (deflated 2%)\n",
            "  adding: content/yolov5/runs/detect/exp2/apple_test (315).png (deflated 2%)\n",
            "  adding: content/yolov5/runs/detect/exp2/apple_test (325).png (deflated 2%)\n",
            "  adding: content/yolov5/runs/detect/exp2/apple_test (328).png (deflated 2%)\n",
            "  adding: content/yolov5/runs/detect/exp/ (stored 0%)\n",
            "  adding: content/yolov5/runs/detect/exp/zidane.jpg (deflated 2%)\n",
            "  adding: content/yolov5/runs/detect/exp/bus.jpg (deflated 0%)\n",
            "  adding: content/yolov5/data/ (stored 0%)\n",
            "  adding: content/yolov5/data/hyps/ (stored 0%)\n",
            "  adding: content/yolov5/data/hyps/hyp.scratch-med.yaml (deflated 53%)\n",
            "  adding: content/yolov5/data/hyps/hyp.scratch-high.yaml (deflated 53%)\n",
            "  adding: content/yolov5/data/hyps/hyp.Objects365.yaml (deflated 40%)\n",
            "  adding: content/yolov5/data/hyps/hyp.VOC.yaml (deflated 48%)\n",
            "  adding: content/yolov5/data/hyps/hyp.scratch-low.yaml (deflated 54%)\n",
            "  adding: content/yolov5/data/Argoverse.yaml (deflated 56%)\n",
            "  adding: content/yolov5/data/SKU-110K.yaml (deflated 52%)\n",
            "  adding: content/yolov5/data/GlobalWheat2020.yaml (deflated 54%)\n",
            "  adding: content/yolov5/data/xView.yaml (deflated 58%)\n",
            "  adding: content/yolov5/data/images/ (stored 0%)\n",
            "  adding: content/yolov5/data/images/zidane.jpg (deflated 0%)\n",
            "  adding: content/yolov5/data/images/bus.jpg (deflated 1%)\n",
            "  adding: content/yolov5/data/scripts/ (stored 0%)\n",
            "  adding: content/yolov5/data/scripts/get_coco.sh (deflated 47%)\n",
            "  adding: content/yolov5/data/scripts/get_coco128.sh (deflated 36%)\n",
            "  adding: content/yolov5/data/scripts/download_weights.sh (deflated 37%)\n",
            "  adding: content/yolov5/data/coco.yaml (deflated 52%)\n",
            "  adding: content/yolov5/data/VisDrone.yaml (deflated 59%)\n",
            "  adding: content/yolov5/data/Objects365.yaml (deflated 57%)\n",
            "  adding: content/yolov5/data/coco128.yaml (deflated 44%)\n",
            "  adding: content/yolov5/data/VOC.yaml (deflated 56%)\n",
            "  adding: content/yolov5/.git/ (stored 0%)\n",
            "  adding: content/yolov5/.git/FETCH_HEAD (deflated 70%)\n",
            "  adding: content/yolov5/.git/refs/ (stored 0%)\n",
            "  adding: content/yolov5/.git/refs/remotes/ (stored 0%)\n",
            "  adding: content/yolov5/.git/refs/remotes/origin/ (stored 0%)\n",
            "  adding: content/yolov5/.git/refs/remotes/origin/HEAD (stored 0%)\n",
            "  adding: content/yolov5/.git/refs/tags/ (stored 0%)\n",
            "  adding: content/yolov5/.git/refs/heads/ (stored 0%)\n",
            "  adding: content/yolov5/.git/refs/heads/master (stored 0%)\n",
            "  adding: content/yolov5/.git/description (deflated 14%)\n",
            "  adding: content/yolov5/.git/index (deflated 53%)\n",
            "  adding: content/yolov5/.git/hooks/ (stored 0%)\n",
            "  adding: content/yolov5/.git/hooks/pre-push.sample (deflated 50%)\n",
            "  adding: content/yolov5/.git/hooks/applypatch-msg.sample (deflated 42%)\n",
            "  adding: content/yolov5/.git/hooks/commit-msg.sample (deflated 44%)\n",
            "  adding: content/yolov5/.git/hooks/prepare-commit-msg.sample (deflated 50%)\n",
            "  adding: content/yolov5/.git/hooks/pre-commit.sample (deflated 43%)\n",
            "  adding: content/yolov5/.git/hooks/fsmonitor-watchman.sample (deflated 53%)\n",
            "  adding: content/yolov5/.git/hooks/pre-rebase.sample (deflated 59%)\n",
            "  adding: content/yolov5/.git/hooks/update.sample (deflated 68%)\n",
            "  adding: content/yolov5/.git/hooks/pre-applypatch.sample (deflated 38%)\n",
            "  adding: content/yolov5/.git/hooks/post-update.sample (deflated 27%)\n",
            "  adding: content/yolov5/.git/hooks/pre-receive.sample (deflated 40%)\n",
            "  adding: content/yolov5/.git/objects/ (stored 0%)\n",
            "  adding: content/yolov5/.git/objects/pack/ (stored 0%)\n",
            "  adding: content/yolov5/.git/objects/pack/pack-5f4bf45d888ffcb0f42c5b9f38bd89940b6bf5dc.idx (deflated 2%)\n",
            "  adding: content/yolov5/.git/objects/pack/pack-5f4bf45d888ffcb0f42c5b9f38bd89940b6bf5dc.pack (deflated 2%)\n",
            "  adding: content/yolov5/.git/objects/info/ (stored 0%)\n",
            "  adding: content/yolov5/.git/logs/ (stored 0%)\n",
            "  adding: content/yolov5/.git/logs/refs/ (stored 0%)\n",
            "  adding: content/yolov5/.git/logs/refs/remotes/ (stored 0%)\n",
            "  adding: content/yolov5/.git/logs/refs/remotes/origin/ (stored 0%)\n",
            "  adding: content/yolov5/.git/logs/refs/remotes/origin/HEAD (deflated 28%)\n",
            "  adding: content/yolov5/.git/logs/refs/heads/ (stored 0%)\n",
            "  adding: content/yolov5/.git/logs/refs/heads/master (deflated 28%)\n",
            "  adding: content/yolov5/.git/logs/HEAD (deflated 28%)\n",
            "  adding: content/yolov5/.git/config (deflated 33%)\n",
            "  adding: content/yolov5/.git/info/ (stored 0%)\n",
            "  adding: content/yolov5/.git/info/exclude (deflated 28%)\n",
            "  adding: content/yolov5/.git/packed-refs (deflated 54%)\n",
            "  adding: content/yolov5/.git/branches/ (stored 0%)\n",
            "  adding: content/yolov5/.git/HEAD (stored 0%)\n",
            "  adding: content/yolov5/train.py (deflated 69%)\n",
            "  adding: content/yolov5/.gitignore (deflated 55%)\n",
            "  adding: content/yolov5/CONTRIBUTING.md (deflated 56%)\n",
            "  adding: content/yolov5/utils/ (stored 0%)\n",
            "  adding: content/yolov5/utils/datasets.py (deflated 71%)\n",
            "  adding: content/yolov5/utils/autoanchor.py (deflated 60%)\n",
            "  adding: content/yolov5/utils/augmentations.py (deflated 63%)\n",
            "  adding: content/yolov5/utils/torch_utils.py (deflated 62%)\n",
            "  adding: content/yolov5/utils/plots.py (deflated 65%)\n",
            "  adding: content/yolov5/utils/aws/ (stored 0%)\n",
            "  adding: content/yolov5/utils/aws/resume.py (deflated 46%)\n",
            "  adding: content/yolov5/utils/aws/__init__.py (stored 0%)\n",
            "  adding: content/yolov5/utils/aws/userdata.sh (deflated 47%)\n",
            "  adding: content/yolov5/utils/aws/mime.sh (deflated 46%)\n",
            "  adding: content/yolov5/utils/__pycache__/ (stored 0%)\n",
            "  adding: content/yolov5/utils/__pycache__/__init__.cpython-37.pyc (deflated 29%)\n",
            "  adding: content/yolov5/utils/__pycache__/torch_utils.cpython-37.pyc (deflated 43%)\n",
            "  adding: content/yolov5/utils/__pycache__/plots.cpython-37.pyc (deflated 45%)\n",
            "  adding: content/yolov5/utils/__pycache__/downloads.cpython-37.pyc (deflated 41%)\n",
            "  adding: content/yolov5/utils/__pycache__/activations.cpython-37.pyc (deflated 58%)\n",
            "  adding: content/yolov5/utils/__pycache__/autoanchor.cpython-37.pyc (deflated 42%)\n",
            "  adding: content/yolov5/utils/__pycache__/metrics.cpython-37.pyc (deflated 48%)\n",
            "  adding: content/yolov5/utils/__pycache__/augmentations.cpython-37.pyc (deflated 45%)\n",
            "  adding: content/yolov5/utils/__pycache__/autobatch.cpython-37.pyc (deflated 35%)\n",
            "  adding: content/yolov5/utils/__pycache__/loss.cpython-37.pyc (deflated 47%)\n",
            "  adding: content/yolov5/utils/__pycache__/datasets.cpython-37.pyc (deflated 50%)\n",
            "  adding: content/yolov5/utils/__pycache__/general.cpython-37.pyc (deflated 50%)\n",
            "  adding: content/yolov5/utils/__pycache__/callbacks.cpython-37.pyc (deflated 55%)\n",
            "  adding: content/yolov5/utils/autobatch.py (deflated 55%)\n",
            "  adding: content/yolov5/utils/downloads.py (deflated 65%)\n",
            "  adding: content/yolov5/utils/__init__.py (deflated 46%)\n",
            "  adding: content/yolov5/utils/activations.py (deflated 68%)\n",
            "  adding: content/yolov5/utils/google_app_engine/ (stored 0%)\n",
            "  adding: content/yolov5/utils/google_app_engine/additional_requirements.txt (deflated 10%)\n",
            "  adding: content/yolov5/utils/google_app_engine/Dockerfile (deflated 47%)\n",
            "  adding: content/yolov5/utils/google_app_engine/app.yaml (deflated 26%)\n",
            "  adding: content/yolov5/utils/callbacks.py (deflated 69%)\n",
            "  adding: content/yolov5/utils/flask_rest_api/ (stored 0%)\n",
            "  adding: content/yolov5/utils/flask_rest_api/example_request.py (deflated 26%)\n",
            "  adding: content/yolov5/utils/flask_rest_api/restapi.py (deflated 43%)\n",
            "  adding: content/yolov5/utils/flask_rest_api/README.md (deflated 52%)\n",
            "  adding: content/yolov5/utils/metrics.py (deflated 67%)\n",
            "  adding: content/yolov5/utils/loggers/ (stored 0%)\n",
            "  adding: content/yolov5/utils/loggers/wandb/ (stored 0%)\n",
            "  adding: content/yolov5/utils/loggers/wandb/log_dataset.py (deflated 52%)\n",
            "  adding: content/yolov5/utils/loggers/wandb/wandb_utils.py (deflated 75%)\n",
            "  adding: content/yolov5/utils/loggers/wandb/__pycache__/ (stored 0%)\n",
            "  adding: content/yolov5/utils/loggers/wandb/__pycache__/__init__.cpython-37.pyc (deflated 22%)\n",
            "  adding: content/yolov5/utils/loggers/wandb/__pycache__/wandb_utils.cpython-37.pyc (deflated 52%)\n",
            "  adding: content/yolov5/utils/loggers/wandb/sweep.py (deflated 53%)\n",
            "  adding: content/yolov5/utils/loggers/wandb/__init__.py (stored 0%)\n",
            "  adding: content/yolov5/utils/loggers/wandb/README.md (deflated 62%)\n",
            "  adding: content/yolov5/utils/loggers/wandb/sweep.yaml (deflated 73%)\n",
            "  adding: content/yolov5/utils/loggers/__pycache__/ (stored 0%)\n",
            "  adding: content/yolov5/utils/loggers/__pycache__/__init__.cpython-37.pyc (deflated 48%)\n",
            "  adding: content/yolov5/utils/loggers/__init__.py (deflated 66%)\n",
            "  adding: content/yolov5/utils/loss.py (deflated 69%)\n",
            "  adding: content/yolov5/utils/general.py (deflated 65%)\n",
            "  adding: content/yolov5/utils/benchmarks.py (deflated 69%)\n",
            "  adding: content/yolov5/requirements.txt (deflated 51%)\n",
            "  adding: content/yolov5/setup.cfg (deflated 46%)\n",
            "  adding: content/yolov5/README.md (deflated 72%)\n",
            "  adding: content/yolov5/.gitattributes (deflated 4%)\n",
            "  adding: content/yolov5/.pre-commit-config.yaml (deflated 60%)\n",
            "  adding: content/yolov5/tutorial.ipynb (deflated 78%)\n"
          ]
        }
      ]
    },
    {
      "cell_type": "markdown",
      "source": [
        "### Download the .zip"
      ],
      "metadata": {
        "id": "KsfDQZvtqsDc"
      }
    },
    {
      "cell_type": "code",
      "source": [
        "from google.colab import files\n",
        "files.download(\"/content/yolov5.zip\")"
      ],
      "metadata": {
        "colab": {
          "base_uri": "https://localhost:8080/",
          "height": 17
        },
        "id": "1AzTB-vPqv88",
        "outputId": "b08e4846-e1d0-4e86-ec65-43656fd6a3e8"
      },
      "execution_count": null,
      "outputs": [
        {
          "output_type": "display_data",
          "data": {
            "text/plain": [
              "<IPython.core.display.Javascript object>"
            ],
            "application/javascript": [
              "\n",
              "    async function download(id, filename, size) {\n",
              "      if (!google.colab.kernel.accessAllowed) {\n",
              "        return;\n",
              "      }\n",
              "      const div = document.createElement('div');\n",
              "      const label = document.createElement('label');\n",
              "      label.textContent = `Downloading \"${filename}\": `;\n",
              "      div.appendChild(label);\n",
              "      const progress = document.createElement('progress');\n",
              "      progress.max = size;\n",
              "      div.appendChild(progress);\n",
              "      document.body.appendChild(div);\n",
              "\n",
              "      const buffers = [];\n",
              "      let downloaded = 0;\n",
              "\n",
              "      const channel = await google.colab.kernel.comms.open(id);\n",
              "      // Send a message to notify the kernel that we're ready.\n",
              "      channel.send({})\n",
              "\n",
              "      for await (const message of channel.messages) {\n",
              "        // Send a message to notify the kernel that we're ready.\n",
              "        channel.send({})\n",
              "        if (message.buffers) {\n",
              "          for (const buffer of message.buffers) {\n",
              "            buffers.push(buffer);\n",
              "            downloaded += buffer.byteLength;\n",
              "            progress.value = downloaded;\n",
              "          }\n",
              "        }\n",
              "      }\n",
              "      const blob = new Blob(buffers, {type: 'application/binary'});\n",
              "      const a = document.createElement('a');\n",
              "      a.href = window.URL.createObjectURL(blob);\n",
              "      a.download = filename;\n",
              "      div.appendChild(a);\n",
              "      a.click();\n",
              "      div.remove();\n",
              "    }\n",
              "  "
            ]
          },
          "metadata": {}
        },
        {
          "output_type": "display_data",
          "data": {
            "text/plain": [
              "<IPython.core.display.Javascript object>"
            ],
            "application/javascript": [
              "download(\"download_a67ac0ae-ecdc-4f21-b175-0b333f911ebb\", \"yolov5.zip\", 162300164)"
            ]
          },
          "metadata": {}
        }
      ]
    },
    {
      "cell_type": "code",
      "source": [
        "!python detect.py --weights /content/yolov5/runs/train/exp/weights/best-fp16.tflite"
      ],
      "metadata": {
        "id": "5FUG_6lZXa_f",
        "outputId": "59546888-f2c4-4f99-d306-302e2f30702f",
        "colab": {
          "base_uri": "https://localhost:8080/"
        }
      },
      "execution_count": null,
      "outputs": [
        {
          "output_type": "stream",
          "name": "stdout",
          "text": [
            "\u001b[34m\u001b[1mdetect: \u001b[0mweights=['/content/yolov5/runs/train/exp/weights/best-fp16.tflite'], source=data/images, data=data/coco128.yaml, imgsz=[640, 640], conf_thres=0.25, iou_thres=0.45, max_det=1000, device=, view_img=False, save_txt=False, save_conf=False, save_crop=False, nosave=False, classes=None, agnostic_nms=False, augment=False, visualize=False, update=False, project=runs/detect, name=exp, exist_ok=False, line_thickness=3, hide_labels=False, hide_conf=False, half=False, dnn=False\n",
            "YOLOv5 🚀 v6.1-117-g698a5d7 torch 1.10.0+cu111 CUDA:0 (Tesla K80, 11441MiB)\n",
            "\n",
            "Loading /content/yolov5/runs/train/exp/weights/best-fp16.tflite for TensorFlow Lite inference...\n",
            "INFO: Created TensorFlow Lite XNNPACK delegate for CPU.\n",
            "image 1/2 /content/yolov5/data/images/bus.jpg: 640x640 5 apples, Done. (0.622s)\n",
            "image 2/2 /content/yolov5/data/images/zidane.jpg: 640x640 6 apples, Done. (0.534s)\n",
            "Speed: 1.4ms pre-process, 578.1ms inference, 2.2ms NMS per image at shape (1, 3, 640, 640)\n",
            "Results saved to \u001b[1mruns/detect/exp4\u001b[0m\n"
          ]
        }
      ]
    }
  ],
  "metadata": {
    "accelerator": "GPU",
    "colab": {
      "collapsed_sections": [],
      "name": "YOLOv5s.ipynb",
      "provenance": [],
      "include_colab_link": true
    },
    "kernelspec": {
      "display_name": "Python 3",
      "name": "python3"
    }
  },
  "nbformat": 4,
  "nbformat_minor": 0
}