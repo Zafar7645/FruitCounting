{
  "nbformat": 4,
  "nbformat_minor": 0,
  "metadata": {
    "colab": {
      "name": "YOLOv5s Saved",
      "provenance": [],
      "collapsed_sections": [],
      "include_colab_link": true
    },
    "kernelspec": {
      "name": "python3",
      "display_name": "Python 3"
    },
    "language_info": {
      "name": "python"
    }
  },
  "cells": [
    {
      "cell_type": "markdown",
      "metadata": {
        "id": "view-in-github",
        "colab_type": "text"
      },
      "source": [
        "<a href=\"https://colab.research.google.com/github/Zafar7645/FruitCounting/blob/main/YOLOv5s_Saved.ipynb\" target=\"_parent\"><img src=\"https://colab.research.google.com/assets/colab-badge.svg\" alt=\"Open In Colab\"/></a>"
      ]
    },
    {
      "cell_type": "code",
      "execution_count": null,
      "metadata": {
        "colab": {
          "base_uri": "https://localhost:8080/"
        },
        "id": "e_kqGsynXAyP",
        "outputId": "ab5f9ca4-e469-4512-cdd1-a3f049181232"
      },
      "outputs": [
        {
          "output_type": "stream",
          "name": "stdout",
          "text": [
            "Drive already mounted at /content/drive; to attempt to forcibly remount, call drive.mount(\"/content/drive\", force_remount=True).\n"
          ]
        }
      ],
      "source": [
        "from google.colab import drive\n",
        "drive.mount('/content/drive')"
      ]
    },
    {
      "cell_type": "code",
      "source": [
        "!git clone https://github.com/ultralytics/yolov5.git"
      ],
      "metadata": {
        "colab": {
          "base_uri": "https://localhost:8080/"
        },
        "id": "U09DnH_iXR9W",
        "outputId": "177915f7-cb43-4909-8c1a-f41337684519"
      },
      "execution_count": null,
      "outputs": [
        {
          "output_type": "stream",
          "name": "stdout",
          "text": [
            "Cloning into 'yolov5'...\n",
            "remote: Enumerating objects: 13286, done.\u001b[K\n",
            "remote: Total 13286 (delta 0), reused 0 (delta 0), pack-reused 13286\u001b[K\n",
            "Receiving objects: 100% (13286/13286), 11.98 MiB | 29.06 MiB/s, done.\n",
            "Resolving deltas: 100% (9254/9254), done.\n"
          ]
        }
      ]
    },
    {
      "cell_type": "code",
      "source": [
        "%cd yolov5/"
      ],
      "metadata": {
        "colab": {
          "base_uri": "https://localhost:8080/"
        },
        "id": "OIFbYRPLXUp7",
        "outputId": "d96986a3-ebfe-417c-d89d-70392a106a15"
      },
      "execution_count": null,
      "outputs": [
        {
          "output_type": "stream",
          "name": "stdout",
          "text": [
            "/content/yolov5\n"
          ]
        }
      ]
    },
    {
      "cell_type": "code",
      "source": [
        "!pip install -r requirements.txt"
      ],
      "metadata": {
        "colab": {
          "base_uri": "https://localhost:8080/"
        },
        "id": "aZEzCIf4Xbbt",
        "outputId": "fb39ea04-0542-4bd4-fd7f-8f61d52b374a"
      },
      "execution_count": null,
      "outputs": [
        {
          "output_type": "stream",
          "name": "stdout",
          "text": [
            "Requirement already satisfied: matplotlib>=3.2.2 in /usr/local/lib/python3.7/dist-packages (from -r requirements.txt (line 4)) (3.2.2)\n",
            "Requirement already satisfied: numpy>=1.18.5 in /usr/local/lib/python3.7/dist-packages (from -r requirements.txt (line 5)) (1.21.6)\n",
            "Requirement already satisfied: opencv-python>=4.1.1 in /usr/local/lib/python3.7/dist-packages (from -r requirements.txt (line 6)) (4.1.2.30)\n",
            "Requirement already satisfied: Pillow>=7.1.2 in /usr/local/lib/python3.7/dist-packages (from -r requirements.txt (line 7)) (7.1.2)\n",
            "Collecting PyYAML>=5.3.1\n",
            "  Downloading PyYAML-6.0-cp37-cp37m-manylinux_2_5_x86_64.manylinux1_x86_64.manylinux_2_12_x86_64.manylinux2010_x86_64.whl (596 kB)\n",
            "\u001b[K     |████████████████████████████████| 596 kB 28.2 MB/s \n",
            "\u001b[?25hRequirement already satisfied: requests>=2.23.0 in /usr/local/lib/python3.7/dist-packages (from -r requirements.txt (line 9)) (2.23.0)\n",
            "Requirement already satisfied: scipy>=1.4.1 in /usr/local/lib/python3.7/dist-packages (from -r requirements.txt (line 10)) (1.4.1)\n",
            "Requirement already satisfied: torch>=1.7.0 in /usr/local/lib/python3.7/dist-packages (from -r requirements.txt (line 11)) (1.11.0+cu113)\n",
            "Requirement already satisfied: torchvision>=0.8.1 in /usr/local/lib/python3.7/dist-packages (from -r requirements.txt (line 12)) (0.12.0+cu113)\n",
            "Requirement already satisfied: tqdm>=4.41.0 in /usr/local/lib/python3.7/dist-packages (from -r requirements.txt (line 13)) (4.64.0)\n",
            "Requirement already satisfied: tensorboard>=2.4.1 in /usr/local/lib/python3.7/dist-packages (from -r requirements.txt (line 16)) (2.8.0)\n",
            "Requirement already satisfied: pandas>=1.1.4 in /usr/local/lib/python3.7/dist-packages (from -r requirements.txt (line 20)) (1.3.5)\n",
            "Requirement already satisfied: seaborn>=0.11.0 in /usr/local/lib/python3.7/dist-packages (from -r requirements.txt (line 21)) (0.11.2)\n",
            "Collecting thop\n",
            "  Downloading thop-0.0.31.post2005241907-py3-none-any.whl (8.7 kB)\n",
            "Requirement already satisfied: kiwisolver>=1.0.1 in /usr/local/lib/python3.7/dist-packages (from matplotlib>=3.2.2->-r requirements.txt (line 4)) (1.4.2)\n",
            "Requirement already satisfied: pyparsing!=2.0.4,!=2.1.2,!=2.1.6,>=2.0.1 in /usr/local/lib/python3.7/dist-packages (from matplotlib>=3.2.2->-r requirements.txt (line 4)) (3.0.8)\n",
            "Requirement already satisfied: cycler>=0.10 in /usr/local/lib/python3.7/dist-packages (from matplotlib>=3.2.2->-r requirements.txt (line 4)) (0.11.0)\n",
            "Requirement already satisfied: python-dateutil>=2.1 in /usr/local/lib/python3.7/dist-packages (from matplotlib>=3.2.2->-r requirements.txt (line 4)) (2.8.2)\n",
            "Requirement already satisfied: idna<3,>=2.5 in /usr/local/lib/python3.7/dist-packages (from requests>=2.23.0->-r requirements.txt (line 9)) (2.10)\n",
            "Requirement already satisfied: certifi>=2017.4.17 in /usr/local/lib/python3.7/dist-packages (from requests>=2.23.0->-r requirements.txt (line 9)) (2021.10.8)\n",
            "Requirement already satisfied: urllib3!=1.25.0,!=1.25.1,<1.26,>=1.21.1 in /usr/local/lib/python3.7/dist-packages (from requests>=2.23.0->-r requirements.txt (line 9)) (1.24.3)\n",
            "Requirement already satisfied: chardet<4,>=3.0.2 in /usr/local/lib/python3.7/dist-packages (from requests>=2.23.0->-r requirements.txt (line 9)) (3.0.4)\n",
            "Requirement already satisfied: typing-extensions in /usr/local/lib/python3.7/dist-packages (from torch>=1.7.0->-r requirements.txt (line 11)) (4.2.0)\n",
            "Requirement already satisfied: google-auth<3,>=1.6.3 in /usr/local/lib/python3.7/dist-packages (from tensorboard>=2.4.1->-r requirements.txt (line 16)) (1.35.0)\n",
            "Requirement already satisfied: markdown>=2.6.8 in /usr/local/lib/python3.7/dist-packages (from tensorboard>=2.4.1->-r requirements.txt (line 16)) (3.3.6)\n",
            "Requirement already satisfied: tensorboard-data-server<0.7.0,>=0.6.0 in /usr/local/lib/python3.7/dist-packages (from tensorboard>=2.4.1->-r requirements.txt (line 16)) (0.6.1)\n",
            "Requirement already satisfied: grpcio>=1.24.3 in /usr/local/lib/python3.7/dist-packages (from tensorboard>=2.4.1->-r requirements.txt (line 16)) (1.44.0)\n",
            "Requirement already satisfied: protobuf>=3.6.0 in /usr/local/lib/python3.7/dist-packages (from tensorboard>=2.4.1->-r requirements.txt (line 16)) (3.17.3)\n",
            "Requirement already satisfied: google-auth-oauthlib<0.5,>=0.4.1 in /usr/local/lib/python3.7/dist-packages (from tensorboard>=2.4.1->-r requirements.txt (line 16)) (0.4.6)\n",
            "Requirement already satisfied: wheel>=0.26 in /usr/local/lib/python3.7/dist-packages (from tensorboard>=2.4.1->-r requirements.txt (line 16)) (0.37.1)\n",
            "Requirement already satisfied: tensorboard-plugin-wit>=1.6.0 in /usr/local/lib/python3.7/dist-packages (from tensorboard>=2.4.1->-r requirements.txt (line 16)) (1.8.1)\n",
            "Requirement already satisfied: absl-py>=0.4 in /usr/local/lib/python3.7/dist-packages (from tensorboard>=2.4.1->-r requirements.txt (line 16)) (1.0.0)\n",
            "Requirement already satisfied: setuptools>=41.0.0 in /usr/local/lib/python3.7/dist-packages (from tensorboard>=2.4.1->-r requirements.txt (line 16)) (57.4.0)\n",
            "Requirement already satisfied: werkzeug>=0.11.15 in /usr/local/lib/python3.7/dist-packages (from tensorboard>=2.4.1->-r requirements.txt (line 16)) (1.0.1)\n",
            "Requirement already satisfied: pytz>=2017.3 in /usr/local/lib/python3.7/dist-packages (from pandas>=1.1.4->-r requirements.txt (line 20)) (2022.1)\n",
            "Requirement already satisfied: six in /usr/local/lib/python3.7/dist-packages (from absl-py>=0.4->tensorboard>=2.4.1->-r requirements.txt (line 16)) (1.15.0)\n",
            "Requirement already satisfied: pyasn1-modules>=0.2.1 in /usr/local/lib/python3.7/dist-packages (from google-auth<3,>=1.6.3->tensorboard>=2.4.1->-r requirements.txt (line 16)) (0.2.8)\n",
            "Requirement already satisfied: cachetools<5.0,>=2.0.0 in /usr/local/lib/python3.7/dist-packages (from google-auth<3,>=1.6.3->tensorboard>=2.4.1->-r requirements.txt (line 16)) (4.2.4)\n",
            "Requirement already satisfied: rsa<5,>=3.1.4 in /usr/local/lib/python3.7/dist-packages (from google-auth<3,>=1.6.3->tensorboard>=2.4.1->-r requirements.txt (line 16)) (4.8)\n",
            "Requirement already satisfied: requests-oauthlib>=0.7.0 in /usr/local/lib/python3.7/dist-packages (from google-auth-oauthlib<0.5,>=0.4.1->tensorboard>=2.4.1->-r requirements.txt (line 16)) (1.3.1)\n",
            "Requirement already satisfied: importlib-metadata>=4.4 in /usr/local/lib/python3.7/dist-packages (from markdown>=2.6.8->tensorboard>=2.4.1->-r requirements.txt (line 16)) (4.11.3)\n",
            "Requirement already satisfied: zipp>=0.5 in /usr/local/lib/python3.7/dist-packages (from importlib-metadata>=4.4->markdown>=2.6.8->tensorboard>=2.4.1->-r requirements.txt (line 16)) (3.8.0)\n",
            "Requirement already satisfied: pyasn1<0.5.0,>=0.4.6 in /usr/local/lib/python3.7/dist-packages (from pyasn1-modules>=0.2.1->google-auth<3,>=1.6.3->tensorboard>=2.4.1->-r requirements.txt (line 16)) (0.4.8)\n",
            "Requirement already satisfied: oauthlib>=3.0.0 in /usr/local/lib/python3.7/dist-packages (from requests-oauthlib>=0.7.0->google-auth-oauthlib<0.5,>=0.4.1->tensorboard>=2.4.1->-r requirements.txt (line 16)) (3.2.0)\n",
            "Installing collected packages: thop, PyYAML\n",
            "  Attempting uninstall: PyYAML\n",
            "    Found existing installation: PyYAML 3.13\n",
            "    Uninstalling PyYAML-3.13:\n",
            "      Successfully uninstalled PyYAML-3.13\n",
            "Successfully installed PyYAML-6.0 thop-0.0.31.post2005241907\n"
          ]
        }
      ]
    },
    {
      "cell_type": "markdown",
      "source": [
        "### Dataset Path\n",
        "Root Directory: /content/drive/MyDrive/dataset\n",
        "\n",
        "*   train: images/train\n",
        "*   val: images/val\n",
        "*   test: images/test\n",
        "\n",
        "\n",
        "\n"
      ],
      "metadata": {
        "id": "ABPsOtpAZHye"
      }
    },
    {
      "cell_type": "markdown",
      "source": [
        "### Stream Results\n",
        "```\n",
        "font = cv2.FONT_HERSHEY_COMPLEX\n",
        "org = (50, 50)\n",
        "fontScale = 1\n",
        "color = (255, 255, 255)\n",
        "thickness = 2\n",
        "cv2.putText(im0, str(n.item()) + ' Apples', org, font, fontScale, color, thickness, cv2.LINE_AA)\n",
        "```"
      ],
      "metadata": {
        "id": "iUVI5ZEPZYx3"
      }
    },
    {
      "cell_type": "markdown",
      "source": [
        "### Weights Path\n",
        "##### yolov5s-best.pt\n",
        "/content/drive/MyDrive/weights/yolov5s-best.pt\n",
        "##### yolov5s_tf.tflite\n",
        "/content/drive/MyDrive/weights/yolov5s_tf.tflite"
      ],
      "metadata": {
        "id": "8NvnnokZZyyp"
      }
    },
    {
      "cell_type": "code",
      "source": [
        "!python detect.py --source /content/drive/MyDrive/dataset/images/test/ --weights /content/drive/MyDrive/weights/yolov5s-best.pt"
      ],
      "metadata": {
        "colab": {
          "base_uri": "https://localhost:8080/"
        },
        "id": "rehAcRtWXgwz",
        "outputId": "87be4353-df7f-4501-944b-ec07fa028b1e"
      },
      "execution_count": null,
      "outputs": [
        {
          "output_type": "stream",
          "name": "stdout",
          "text": [
            "\u001b[34m\u001b[1mdetect: \u001b[0mweights=['/content/drive/MyDrive/weights/yolov5s-best.pt'], source=/content/drive/MyDrive/dataset/images/test/, data=data/coco128.yaml, imgsz=[640, 640], conf_thres=0.25, iou_thres=0.45, max_det=1000, device=, view_img=False, save_txt=False, save_conf=False, save_crop=False, nosave=False, classes=None, agnostic_nms=False, augment=False, visualize=False, update=False, project=runs/detect, name=exp, exist_ok=False, line_thickness=3, hide_labels=False, hide_conf=False, half=False, dnn=False\n",
            "YOLOv5 🚀 v6.1-177-gd059d1d torch 1.11.0+cu113 CPU\n",
            "\n",
            "Fusing layers... \n",
            "Model summary: 213 layers, 7012822 parameters, 0 gradients\n",
            "image 1/25 /content/drive/MyDrive/dataset/images/test/apple_test (1).png: 640x384 110 apples, Done. (0.232s)\n",
            "image 2/25 /content/drive/MyDrive/dataset/images/test/apple_test (13).png: 640x384 85 apples, Done. (0.215s)\n",
            "image 3/25 /content/drive/MyDrive/dataset/images/test/apple_test (17).png: 640x384 90 apples, Done. (0.227s)\n",
            "image 4/25 /content/drive/MyDrive/dataset/images/test/apple_test (21).png: 640x384 53 apples, Done. (0.200s)\n",
            "image 5/25 /content/drive/MyDrive/dataset/images/test/apple_test (214).png: 640x384 55 apples, Done. (0.203s)\n",
            "image 6/25 /content/drive/MyDrive/dataset/images/test/apple_test (290).png: 640x384 71 apples, Done. (0.203s)\n",
            "image 7/25 /content/drive/MyDrive/dataset/images/test/apple_test (312).png: 640x384 89 apples, Done. (0.201s)\n",
            "image 8/25 /content/drive/MyDrive/dataset/images/test/apple_test (313).png: 640x384 87 apples, Done. (0.209s)\n",
            "image 9/25 /content/drive/MyDrive/dataset/images/test/apple_test (314).png: 640x384 66 apples, Done. (0.205s)\n",
            "image 10/25 /content/drive/MyDrive/dataset/images/test/apple_test (315).png: 640x384 70 apples, Done. (0.198s)\n",
            "image 11/25 /content/drive/MyDrive/dataset/images/test/apple_test (316).png: 640x384 70 apples, Done. (0.206s)\n",
            "image 12/25 /content/drive/MyDrive/dataset/images/test/apple_test (317).png: 640x384 61 apples, Done. (0.197s)\n",
            "image 13/25 /content/drive/MyDrive/dataset/images/test/apple_test (318).png: 640x384 64 apples, Done. (0.210s)\n",
            "image 14/25 /content/drive/MyDrive/dataset/images/test/apple_test (319).png: 640x384 64 apples, Done. (0.202s)\n",
            "image 15/25 /content/drive/MyDrive/dataset/images/test/apple_test (320).png: 640x384 61 apples, Done. (0.203s)\n",
            "image 16/25 /content/drive/MyDrive/dataset/images/test/apple_test (321).png: 640x384 56 apples, Done. (0.205s)\n",
            "image 17/25 /content/drive/MyDrive/dataset/images/test/apple_test (322).png: 640x384 64 apples, Done. (0.211s)\n",
            "image 18/25 /content/drive/MyDrive/dataset/images/test/apple_test (323).png: 640x384 55 apples, Done. (0.202s)\n",
            "image 19/25 /content/drive/MyDrive/dataset/images/test/apple_test (324).png: 640x384 38 apples, Done. (0.205s)\n",
            "image 20/25 /content/drive/MyDrive/dataset/images/test/apple_test (325).png: 640x384 58 apples, Done. (0.209s)\n",
            "image 21/25 /content/drive/MyDrive/dataset/images/test/apple_test (326).png: 640x384 50 apples, Done. (0.263s)\n",
            "image 22/25 /content/drive/MyDrive/dataset/images/test/apple_test (327).png: 640x384 44 apples, Done. (0.200s)\n",
            "image 23/25 /content/drive/MyDrive/dataset/images/test/apple_test (328).png: 640x384 61 apples, Done. (0.203s)\n",
            "image 24/25 /content/drive/MyDrive/dataset/images/test/apple_test (74).png: 640x384 26 apples, Done. (0.198s)\n",
            "image 25/25 /content/drive/MyDrive/dataset/images/test/apple_test (80).png: 640x384 26 apples, Done. (0.200s)\n",
            "Speed: 1.5ms pre-process, 208.3ms inference, 1.5ms NMS per image at shape (1, 3, 640, 640)\n",
            "Results saved to \u001b[1mruns/detect/exp\u001b[0m\n"
          ]
        }
      ]
    },
    {
      "cell_type": "code",
      "source": [
        "!zip -r /content/test-exp.zip /content/yolov5/runs/detect/exp"
      ],
      "metadata": {
        "colab": {
          "base_uri": "https://localhost:8080/"
        },
        "id": "k-0OmyrbcdZ1",
        "outputId": "952b91a9-afe2-46e4-814b-0267f3f78dec"
      },
      "execution_count": null,
      "outputs": [
        {
          "output_type": "stream",
          "name": "stdout",
          "text": [
            "  adding: content/yolov5/runs/detect/exp/ (stored 0%)\n",
            "  adding: content/yolov5/runs/detect/exp/apple_test (319).png (deflated 2%)\n",
            "  adding: content/yolov5/runs/detect/exp/apple_test (317).png (deflated 2%)\n",
            "  adding: content/yolov5/runs/detect/exp/apple_test (326).png (deflated 2%)\n",
            "  adding: content/yolov5/runs/detect/exp/apple_test (318).png (deflated 2%)\n",
            "  adding: content/yolov5/runs/detect/exp/apple_test (325).png (deflated 2%)\n",
            "  adding: content/yolov5/runs/detect/exp/apple_test (13).png (deflated 3%)\n",
            "  adding: content/yolov5/runs/detect/exp/apple_test (316).png (deflated 2%)\n",
            "  adding: content/yolov5/runs/detect/exp/apple_test (80).png (deflated 1%)\n",
            "  adding: content/yolov5/runs/detect/exp/apple_test (322).png (deflated 2%)\n",
            "  adding: content/yolov5/runs/detect/exp/apple_test (17).png (deflated 2%)\n",
            "  adding: content/yolov5/runs/detect/exp/apple_test (328).png (deflated 2%)\n",
            "  adding: content/yolov5/runs/detect/exp/apple_test (324).png (deflated 2%)\n",
            "  adding: content/yolov5/runs/detect/exp/apple_test (321).png (deflated 2%)\n",
            "  adding: content/yolov5/runs/detect/exp/apple_test (313).png (deflated 2%)\n",
            "  adding: content/yolov5/runs/detect/exp/apple_test (327).png (deflated 2%)\n",
            "  adding: content/yolov5/runs/detect/exp/apple_test (314).png (deflated 2%)\n",
            "  adding: content/yolov5/runs/detect/exp/apple_test (320).png (deflated 2%)\n",
            "  adding: content/yolov5/runs/detect/exp/apple_test (214).png (deflated 2%)\n",
            "  adding: content/yolov5/runs/detect/exp/apple_test (21).png (deflated 2%)\n",
            "  adding: content/yolov5/runs/detect/exp/apple_test (323).png (deflated 2%)\n",
            "  adding: content/yolov5/runs/detect/exp/apple_test (315).png (deflated 2%)\n",
            "  adding: content/yolov5/runs/detect/exp/apple_test (290).png (deflated 3%)\n",
            "  adding: content/yolov5/runs/detect/exp/apple_test (74).png (deflated 1%)\n",
            "  adding: content/yolov5/runs/detect/exp/apple_test (1).png (deflated 3%)\n",
            "  adding: content/yolov5/runs/detect/exp/apple_test (312).png (deflated 2%)\n"
          ]
        }
      ]
    },
    {
      "cell_type": "code",
      "source": [
        "from google.colab import files\n",
        "files.download(\"/content/test-exp.zip\")"
      ],
      "metadata": {
        "colab": {
          "base_uri": "https://localhost:8080/",
          "height": 34
        },
        "id": "AJGUUstGcokU",
        "outputId": "2ebe14e8-e0ac-4fdc-82c4-b183843454a2"
      },
      "execution_count": null,
      "outputs": [
        {
          "output_type": "display_data",
          "data": {
            "text/plain": [
              "<IPython.core.display.Javascript object>"
            ],
            "application/javascript": [
              "\n",
              "    async function download(id, filename, size) {\n",
              "      if (!google.colab.kernel.accessAllowed) {\n",
              "        return;\n",
              "      }\n",
              "      const div = document.createElement('div');\n",
              "      const label = document.createElement('label');\n",
              "      label.textContent = `Downloading \"${filename}\": `;\n",
              "      div.appendChild(label);\n",
              "      const progress = document.createElement('progress');\n",
              "      progress.max = size;\n",
              "      div.appendChild(progress);\n",
              "      document.body.appendChild(div);\n",
              "\n",
              "      const buffers = [];\n",
              "      let downloaded = 0;\n",
              "\n",
              "      const channel = await google.colab.kernel.comms.open(id);\n",
              "      // Send a message to notify the kernel that we're ready.\n",
              "      channel.send({})\n",
              "\n",
              "      for await (const message of channel.messages) {\n",
              "        // Send a message to notify the kernel that we're ready.\n",
              "        channel.send({})\n",
              "        if (message.buffers) {\n",
              "          for (const buffer of message.buffers) {\n",
              "            buffers.push(buffer);\n",
              "            downloaded += buffer.byteLength;\n",
              "            progress.value = downloaded;\n",
              "          }\n",
              "        }\n",
              "      }\n",
              "      const blob = new Blob(buffers, {type: 'application/binary'});\n",
              "      const a = document.createElement('a');\n",
              "      a.href = window.URL.createObjectURL(blob);\n",
              "      a.download = filename;\n",
              "      div.appendChild(a);\n",
              "      a.click();\n",
              "      div.remove();\n",
              "    }\n",
              "  "
            ]
          },
          "metadata": {}
        },
        {
          "output_type": "display_data",
          "data": {
            "text/plain": [
              "<IPython.core.display.Javascript object>"
            ],
            "application/javascript": [
              "download(\"download_db0af27a-89e2-491d-a689-e855c9b21ce4\", \"test-exp.zip\", 41617822)"
            ]
          },
          "metadata": {}
        }
      ]
    }
  ]
}